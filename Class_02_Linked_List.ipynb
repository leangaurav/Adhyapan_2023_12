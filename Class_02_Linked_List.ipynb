{
 "cells": [
  {
   "cell_type": "markdown",
   "id": "82f95e70",
   "metadata": {},
   "source": [
    "# Linked Lists Intro"
   ]
  },
  {
   "cell_type": "markdown",
   "id": "402b2bff",
   "metadata": {},
   "source": [
    "**What is a linked list ?**  \n",
    "List created by linking elements called as nodes !!"
   ]
  },
  {
   "cell_type": "code",
   "execution_count": null,
   "id": "3dfa33bc",
   "metadata": {},
   "outputs": [],
   "source": []
  },
  {
   "cell_type": "markdown",
   "id": "992f8b83",
   "metadata": {},
   "source": [
    "### Node structure and self referential struct\n",
    "\n",
    "\n",
    "```C++\n",
    "// C++\n",
    "struct Node {\n",
    "    int data;\n",
    "    Node *next;\n",
    "};\n",
    "\n",
    "// Decimal 0-9  - 10\n",
    "// Hexa 0-9 ABCDEF - 16\n",
    "```"
   ]
  },
  {
   "cell_type": "markdown",
   "id": "31496d9b",
   "metadata": {},
   "source": [
    " "
   ]
  },
  {
   "cell_type": "markdown",
   "id": "770e75dc",
   "metadata": {},
   "source": [
    "### Dynamic memory allocation\n",
    "```C++\n",
    "\n",
    "int main() {\n",
    "    Node *n1 = new Node();\n",
    "    n1->data = 10;\n",
    "    n1->next = NULL;\n",
    "    \n",
    "    Node *n2 = new Node();\n",
    "    n2->data = 20;\n",
    "    n2->next = n1;\n",
    "}\n",
    "```"
   ]
  },
  {
   "cell_type": "markdown",
   "id": "552332fb",
   "metadata": {},
   "source": [
    "## Complexity Analysis"
   ]
  },
  {
   "cell_type": "code",
   "execution_count": null,
   "id": "905b275a",
   "metadata": {},
   "outputs": [],
   "source": [
    "- Insert at front: O(1)  \n",
    "- Insert at end: O(1)  \n",
    "- Delete at end: O(1)  \n",
    "- Delete at end: O(1)\n",
    "- Delete from middle:\n",
    "    - Not given the refrence to the node to be delete O(n)\n",
    "    - Given the refrence to the node to be delete O(1)\n"
   ]
  },
  {
   "cell_type": "code",
   "execution_count": null,
   "id": "22f81512",
   "metadata": {},
   "outputs": [],
   "source": []
  },
  {
   "cell_type": "markdown",
   "id": "f615ba7b",
   "metadata": {},
   "source": [
    "**JAVA**  \n",
    "```JAVA\n",
    "class Node {\n",
    "    int data;\n",
    "    Node next;\n",
    "    \n",
    "    public Node(int data, Node next) {\n",
    "        this.data = data;\n",
    "        this.next = next;\n",
    "    }\n",
    "}\n",
    "Node n1 = new Node(10, null);\n",
    "Node n2 = new Node(20, n1);\n",
    "```\n",
    "\n",
    "**Python**  \n",
    "```Python\n",
    "class Node:\n",
    "    def __init__(self, data: int, next: Node): \n",
    "        self.data = data\n",
    "        self.next = next\n",
    "        \n",
    "n1 = Node(10, None)\n",
    "n2 = Node(20, n1)\n",
    "```"
   ]
  },
  {
   "cell_type": "code",
   "execution_count": null,
   "id": "f37c92b0",
   "metadata": {},
   "outputs": [],
   "source": []
  },
  {
   "cell_type": "markdown",
   "id": "8b80acb4",
   "metadata": {},
   "source": [
    "**Question**  \n",
    "https://leetcode.com/problems/delete-node-in-a-linked-list/"
   ]
  },
  {
   "cell_type": "code",
   "execution_count": null,
   "id": "86c33413",
   "metadata": {},
   "outputs": [],
   "source": [
    "class Solution:\n",
    "    def deleteNode(self, node):\n",
    "        \"\"\"\n",
    "        :type node: ListNode\n",
    "        :rtype: void Do not return anything, modify node in-place instead.\n",
    "        \"\"\"\n",
    "        node.val = node.next.val\n",
    "        node.next = node.next.next"
   ]
  },
  {
   "cell_type": "code",
   "execution_count": null,
   "id": "79b0c8b4",
   "metadata": {},
   "outputs": [],
   "source": [
    "public class Solution {\n",
    "    public void deleteNode(ListNode node) {\n",
    "        \n",
    "        node.val = node.next.val;\n",
    "    \n",
    "        node.next = node.next.next;\n",
    "    }\n",
    "}"
   ]
  },
  {
   "cell_type": "code",
   "execution_count": null,
   "id": "586f0839",
   "metadata": {},
   "outputs": [],
   "source": [
    "/**\n",
    " * Definition for singly-linked list.\n",
    " * public class ListNode {\n",
    " *     int val;\n",
    " *     ListNode next;\n",
    " *     ListNode(int x) { val = x; }\n",
    " * }\n",
    " */\n",
    "class Solution {\n",
    "    public void deleteNode(ListNode node) {\n",
    "        node.val = node.next.val;\n",
    "        node.next = node.next.next; \n",
    "    }\n",
    "}"
   ]
  },
  {
   "cell_type": "code",
   "execution_count": null,
   "id": "8b2d4df5",
   "metadata": {},
   "outputs": [],
   "source": [
    "/**\n",
    " * Definition for singly-linked list.\n",
    " * public class ListNode {\n",
    " *     int val;\n",
    " *     ListNode next;\n",
    " *     ListNode(int x) { val = x; }\n",
    " * }\n",
    " */\n",
    "aclass Solution {\n",
    "    public void deleteNode(ListNode node) {\n",
    "        node.val=node.next.val;\n",
    "        node.next=node.next.next;\n",
    "    }\n",
    "}"
   ]
  },
  {
   "cell_type": "code",
   "execution_count": null,
   "id": "4103bd9e",
   "metadata": {},
   "outputs": [],
   "source": []
  },
  {
   "cell_type": "markdown",
   "id": "73afd5ec",
   "metadata": {},
   "source": [
    "**Question**  \n",
    "https://leetcode.com/problems/linked-list-cycle/description/"
   ]
  },
  {
   "cell_type": "code",
   "execution_count": null,
   "id": "e5e56fa4",
   "metadata": {},
   "outputs": [],
   "source": [
    "Brute force solution  \n",
    "Using Hashmap\n",
    "#  TC: O(n)\n",
    "#  SC: O(n)\n"
   ]
  },
  {
   "cell_type": "code",
   "execution_count": null,
   "id": "e4541bb0",
   "metadata": {},
   "outputs": [],
   "source": [
    "#  TC: O(n)\n",
    "#  SC : O(1)\n",
    "\n",
    "/**\n",
    " * Definition for singly-linked list.\n",
    " * class ListNode {\n",
    " *     int val;\n",
    " *     ListNode next;\n",
    " *     ListNode(int x) {\n",
    " *         val = x;\n",
    " *         next = null;\n",
    " *     }\n",
    " * }\n",
    " */\n",
    "public class Solution {\n",
    "    public boolean hasCycle(ListNode head) {\n",
    "        if(head == null) return false;\n",
    "\n",
    "        ListNode slow = head;\n",
    "        ListNode fast = head;\n",
    "\n",
    "        while (fast.next != null && fast != null){\n",
    "            slow = slow.next;\n",
    "            fast = fast.next.next;\n",
    "\n",
    "            if(slow == fast){\n",
    "                return true;\n",
    "            }\n",
    "        }    \n",
    "        return false;    \n",
    "    }\n",
    "}"
   ]
  },
  {
   "cell_type": "code",
   "execution_count": null,
   "id": "9176d91b",
   "metadata": {},
   "outputs": [],
   "source": [
    "class Solution:\n",
    "    def hasCycle(self, head: Optional[ListNode]) -> bool:\n",
    "        curr = head\n",
    "        while curr:\n",
    "            if curr.next == head:\n",
    "                return True\n",
    "            curr.next, curr = head, curr.next\n",
    "        return False"
   ]
  },
  {
   "cell_type": "code",
   "execution_count": null,
   "id": "5386a382",
   "metadata": {},
   "outputs": [],
   "source": []
  },
  {
   "cell_type": "markdown",
   "id": "9fb08825",
   "metadata": {},
   "source": [
    "**Question**  \n",
    "https://leetcode.com/problems/linked-list-cycle-ii/  \n",
    "https://stackoverflow.com/questions/2936213/how-does-finding-a-cycle-start-node-in-a-cycle-linked-list-work/36214925#36214925"
   ]
  },
  {
   "cell_type": "code",
   "execution_count": null,
   "id": "1d9b72e0",
   "metadata": {},
   "outputs": [],
   "source": []
  },
  {
   "cell_type": "code",
   "execution_count": null,
   "id": "c387c04c",
   "metadata": {},
   "outputs": [],
   "source": []
  },
  {
   "cell_type": "markdown",
   "id": "f037772d",
   "metadata": {},
   "source": [
    "**Question**  \n",
    "https://leetcode.com/problems/intersection-of-two-linked-lists/"
   ]
  },
  {
   "cell_type": "markdown",
   "id": "4e724489",
   "metadata": {},
   "source": [
    "#### Brute Force\n",
    "Use a hash map  \n",
    "TC: O(m+n)  \n",
    "SC: O(max(m,n))  "
   ]
  },
  {
   "cell_type": "code",
   "execution_count": null,
   "id": "75516bdf",
   "metadata": {},
   "outputs": [],
   "source": [
    "# optimal\n",
    "# TC: O(m+n)\n",
    "# SC: O(1)\n",
    "\n",
    "int getLen(ListNode  *head) {\n",
    "    int len = 0;\n",
    "\n",
    "    while (head != NULL){\n",
    "        len ++;\n",
    "        head = head->next;\n",
    "    }\n",
    "\n",
    "    return len;\n",
    "}\n",
    "\n",
    "class Solution {\n",
    "public:\n",
    "    ListNode *getIntersectionNode(ListNode *headA, ListNode *headB) {\n",
    "        int l1 =0, l2  = 0;\n",
    "\n",
    "        l1 = getLen(headA);\n",
    "        l2 = getLen(headB);\n",
    "\n",
    "        // a1\n",
    "        // b2\n",
    "        ListNode *s=headA, *l=headB;\n",
    "        if (l1 > l2) {\n",
    "            l = headA;\n",
    "            s = headB; \n",
    "        }\n",
    "\n",
    "\n",
    "        for(int i = abs(l1-l2); i >0; i-- ) {\n",
    "            l = l->next;\n",
    "        }       \n",
    "\n",
    "        while(s != NULL) {\n",
    "            if (s == l) {\n",
    "                return s;\n",
    "            }\n",
    "            s = s->next;\n",
    "            l = l->next;\n",
    "        }\n",
    "\n",
    "        return NULL;\n",
    "    }\n",
    "};"
   ]
  },
  {
   "cell_type": "code",
   "execution_count": null,
   "id": "fd0e74c2",
   "metadata": {},
   "outputs": [],
   "source": []
  },
  {
   "cell_type": "markdown",
   "id": "f83ef4fd",
   "metadata": {},
   "source": [
    "**Question**  \n",
    "https://leetcode.com/problems/reverse-linked-list/"
   ]
  },
  {
   "cell_type": "code",
   "execution_count": null,
   "id": "51989e1c",
   "metadata": {},
   "outputs": [],
   "source": []
  },
  {
   "cell_type": "code",
   "execution_count": null,
   "id": "acffe46d",
   "metadata": {},
   "outputs": [],
   "source": []
  },
  {
   "cell_type": "markdown",
   "id": "94ad6e7b",
   "metadata": {},
   "source": [
    "**Question**  \n",
    "https://leetcode.com/problems/merge-two-sorted-lists/"
   ]
  },
  {
   "cell_type": "code",
   "execution_count": null,
   "id": "ef9183ff",
   "metadata": {},
   "outputs": [],
   "source": []
  },
  {
   "cell_type": "code",
   "execution_count": null,
   "id": "0f06909a",
   "metadata": {},
   "outputs": [],
   "source": []
  },
  {
   "cell_type": "markdown",
   "id": "4d061b48",
   "metadata": {},
   "source": [
    "## Question\n",
    "https://leetcode.com/problems/reverse-nodes-in-k-group/"
   ]
  },
  {
   "cell_type": "code",
   "execution_count": null,
   "id": "74587513",
   "metadata": {},
   "outputs": [],
   "source": []
  },
  {
   "cell_type": "code",
   "execution_count": null,
   "id": "4e4bec90",
   "metadata": {},
   "outputs": [],
   "source": []
  }
 ],
 "metadata": {
  "kernelspec": {
   "display_name": "Python 3 (ipykernel)",
   "language": "python",
   "name": "python3"
  },
  "language_info": {
   "codemirror_mode": {
    "name": "ipython",
    "version": 3
   },
   "file_extension": ".py",
   "mimetype": "text/x-python",
   "name": "python",
   "nbconvert_exporter": "python",
   "pygments_lexer": "ipython3",
   "version": "3.10.9"
  }
 },
 "nbformat": 4,
 "nbformat_minor": 5
}
