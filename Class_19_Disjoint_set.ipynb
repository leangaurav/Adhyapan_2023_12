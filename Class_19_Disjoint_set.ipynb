{
 "cells": [
  {
   "cell_type": "markdown",
   "id": "3d0ae5c0",
   "metadata": {},
   "source": [
    "## Disjoint Set"
   ]
  },
  {
   "cell_type": "code",
   "execution_count": null,
   "id": "f7c22509",
   "metadata": {},
   "outputs": [],
   "source": []
  },
  {
   "cell_type": "markdown",
   "id": "dfe4a695",
   "metadata": {},
   "source": [
    "Set = collection of unique elements  \n",
    "Disjoint set= collection of Sets which are mutually exclusive"
   ]
  },
  {
   "cell_type": "markdown",
   "id": "c8bcc880",
   "metadata": {},
   "source": [
    "s = (1,2,3,4,5)"
   ]
  },
  {
   "cell_type": "code",
   "execution_count": null,
   "id": "70064610",
   "metadata": {},
   "outputs": [],
   "source": []
  },
  {
   "cell_type": "code",
   "execution_count": null,
   "id": "6bb11cca",
   "metadata": {},
   "outputs": [],
   "source": []
  },
  {
   "cell_type": "markdown",
   "id": "df42de66",
   "metadata": {},
   "source": [
    "ds = ((1,2), (3), (4,5)) # disjoint set  \n",
    "ds = ((1,2), (3,1), (4,5)) # not a disjoint set"
   ]
  },
  {
   "cell_type": "markdown",
   "id": "e27b5c08",
   "metadata": {},
   "source": [
    "s1 = (1,2,3), s2 = (3,4,5)  \n",
    "s1 = (1,2,3), s2 = (4,5)\n"
   ]
  },
  {
   "cell_type": "code",
   "execution_count": null,
   "id": "8a59c411",
   "metadata": {},
   "outputs": [],
   "source": []
  },
  {
   "cell_type": "markdown",
   "id": "e0768f37",
   "metadata": {},
   "source": [
    "Set\n",
    "- add\n",
    "- check\n",
    "- remove/pop/delete"
   ]
  },
  {
   "cell_type": "code",
   "execution_count": null,
   "id": "1b17d967",
   "metadata": {},
   "outputs": [],
   "source": []
  },
  {
   "cell_type": "code",
   "execution_count": null,
   "id": "f7c2ca19",
   "metadata": {},
   "outputs": [],
   "source": []
  },
  {
   "cell_type": "code",
   "execution_count": null,
   "id": "76e14af1",
   "metadata": {},
   "outputs": [],
   "source": [
    "Disjoint Set: set of pre defined elements, where each element is in it's own set\n",
    "\n",
    "ds = [(1), (2), (3), (4), (5)]\n",
    "- union(e1, e2): merge 2 sets\n",
    "- find(e1): find the set which e1 belongs to \n",
    "   check if two elements are part of the same set\n",
    "- count_ds() = no. of sets in the disjoint set\n",
    "\n",
    "    \n",
    "ds = [(1), (2), (3), (4), (5)]\n",
    "find(1) == find(2) => False\n",
    "union(1, 2)\n",
    "\n",
    "ds = [(1, 2), (3), (4), (5)]\n",
    "find(1) == find(2) => True\n",
    "\n",
    "union(3,5)\n",
    "union(3,5)\n",
    "ds = [(1, 2), (3,5), (4)]\n",
    "find(1) == find(3) => False\n",
    "find(5) == find(3) => True\n",
    "\n",
    "union(1,5)\n",
    "ds = [(1, 2, 3, 5), (4)]\n",
    "find(1) == find(3) => True\n",
    "find(5) == find(3) => True\n"
   ]
  },
  {
   "cell_type": "code",
   "execution_count": null,
   "id": "91a4efdc",
   "metadata": {},
   "outputs": [],
   "source": []
  },
  {
   "cell_type": "code",
   "execution_count": 17,
   "id": "91f14bed",
   "metadata": {},
   "outputs": [
    {
     "name": "stdout",
     "output_type": "stream",
     "text": [
      "\n",
      "{1: 1, 2: 2, 3: 3, 4: 4, 5: 5}\n",
      "1\n",
      "2\n",
      "\n",
      "{1: 2, 2: 2, 3: 3, 4: 4, 5: 5}\n",
      "2\n",
      "2\n",
      "3\n",
      "4\n",
      "\n",
      "{1: 2, 2: 3, 3: 3, 4: 4, 5: 5}\n",
      "3\n",
      "\n",
      "{1: 3, 2: 3, 3: 3, 4: 4, 5: 5}\n",
      "3\n",
      "3\n",
      "4\n"
     ]
    }
   ],
   "source": [
    "class DisjointSet:\n",
    "    def __init__(self, elements):\n",
    "        self.__data = {}\n",
    "        for e in elements:\n",
    "            self.__data[e] = e\n",
    "            \n",
    "    def print(self):\n",
    "        print()\n",
    "        print(self.__data)\n",
    "        \n",
    "    def find(self, v):\n",
    "        p = self.__data[v]\n",
    "        if p == v:\n",
    "            return p\n",
    "        tp = self.find(p)\n",
    "        self.__data[v] = tp # use path compression\n",
    "        return tp\n",
    "\n",
    "    def union(self, v1, v2):\n",
    "        # make v2 parent of v1\n",
    "        p1 = self.find(v1)\n",
    "        self.__data[p1] = v2\n",
    "        \n",
    "d = DisjointSet([1,2,3,4,5])\n",
    "d.print()\n",
    "print(d.find(1))\n",
    "print(d.find(2))\n",
    "\n",
    "d.union(1, 2) # (1,2), 3, 4, 5\n",
    "d.print()\n",
    "print(d.find(1))\n",
    "print(d.find(2))\n",
    "print(d.find(3))\n",
    "print(d.find(4))\n",
    "\n",
    "\n",
    "d.union(1, 3) # (1,2, 3) , 4, 5\n",
    "d.print()\n",
    "print(d.find(1))\n",
    "d.print()\n",
    "print(d.find(2))\n",
    "print(d.find(3))\n",
    "print(d.find(4))\n"
   ]
  }
 ],
 "metadata": {
  "kernelspec": {
   "display_name": "Python 3 (ipykernel)",
   "language": "python",
   "name": "python3"
  },
  "language_info": {
   "codemirror_mode": {
    "name": "ipython",
    "version": 3
   },
   "file_extension": ".py",
   "mimetype": "text/x-python",
   "name": "python",
   "nbconvert_exporter": "python",
   "pygments_lexer": "ipython3",
   "version": "3.10.9"
  }
 },
 "nbformat": 4,
 "nbformat_minor": 5
}
