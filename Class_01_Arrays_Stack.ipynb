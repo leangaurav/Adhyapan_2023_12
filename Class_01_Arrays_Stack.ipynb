{
 "cells": [
  {
   "cell_type": "markdown",
   "id": "c67d7f92",
   "metadata": {},
   "source": [
    "- Figure out what is the Sorting algo used by my prog. language\n",
    "- How a hash map works internally\n",
    "    - Hash colission\n",
    "    - Chaining"
   ]
  },
  {
   "cell_type": "code",
   "execution_count": 8,
   "id": "1a971727",
   "metadata": {},
   "outputs": [
    {
     "name": "stdout",
     "output_type": "stream",
     "text": [
      "6\n"
     ]
    },
    {
     "ename": "IndexError",
     "evalue": "list index out of range",
     "output_type": "error",
     "traceback": [
      "\u001b[1;31m---------------------------------------------------------------------------\u001b[0m",
      "\u001b[1;31mIndexError\u001b[0m                                Traceback (most recent call last)",
      "Cell \u001b[1;32mIn[8], line 19\u001b[0m\n\u001b[0;32m     16\u001b[0m     \u001b[38;5;28;01mreturn\u001b[39;00m \u001b[38;5;241m-\u001b[39m\u001b[38;5;241m1\u001b[39m\n\u001b[0;32m     18\u001b[0m \u001b[38;5;28mprint\u001b[39m(func([\u001b[38;5;241m1\u001b[39m,\u001b[38;5;241m3\u001b[39m,\u001b[38;5;241m5\u001b[39m,\u001b[38;5;241m6\u001b[39m,\u001b[38;5;241m7\u001b[39m,\u001b[38;5;241m8\u001b[39m,\u001b[38;5;241m9\u001b[39m], \u001b[38;5;241m9\u001b[39m))\n\u001b[1;32m---> 19\u001b[0m \u001b[38;5;28mprint\u001b[39m(\u001b[43mfunc\u001b[49m\u001b[43m(\u001b[49m\u001b[43m[\u001b[49m\u001b[38;5;241;43m1\u001b[39;49m\u001b[43m,\u001b[49m\u001b[38;5;241;43m3\u001b[39;49m\u001b[43m,\u001b[49m\u001b[38;5;241;43m5\u001b[39;49m\u001b[43m,\u001b[49m\u001b[38;5;241;43m6\u001b[39;49m\u001b[43m,\u001b[49m\u001b[38;5;241;43m7\u001b[39;49m\u001b[43m,\u001b[49m\u001b[38;5;241;43m8\u001b[39;49m\u001b[43m]\u001b[49m\u001b[43m,\u001b[49m\u001b[43m \u001b[49m\u001b[38;5;241;43m9\u001b[39;49m\u001b[43m)\u001b[49m)\n\u001b[0;32m     21\u001b[0m \u001b[38;5;124;03m\"\"\"\u001b[39;00m\n\u001b[0;32m     22\u001b[0m \u001b[38;5;124;03mdata 1,3,5,6,7,8,9\u001b[39;00m\n\u001b[0;32m     23\u001b[0m \u001b[38;5;124;03m     0 1 2 3 4 5 6\u001b[39;00m\n\u001b[1;32m   (...)\u001b[0m\n\u001b[0;32m     37\u001b[0m \n\u001b[0;32m     38\u001b[0m \u001b[38;5;124;03m\"\"\"\u001b[39;00m\n",
      "Cell \u001b[1;32mIn[7], line 8\u001b[0m, in \u001b[0;36mfunc\u001b[1;34m(data, val)\u001b[0m\n\u001b[0;32m      5\u001b[0m \u001b[38;5;28;01mwhile\u001b[39;00m s \u001b[38;5;241m<\u001b[39m\u001b[38;5;241m=\u001b[39m e:\n\u001b[0;32m      6\u001b[0m     m \u001b[38;5;241m=\u001b[39m \u001b[38;5;28mint\u001b[39m((s\u001b[38;5;241m+\u001b[39me)\u001b[38;5;241m/\u001b[39m\u001b[38;5;241m/\u001b[39m\u001b[38;5;241m2\u001b[39m)\n\u001b[1;32m----> 8\u001b[0m     \u001b[38;5;28;01mif\u001b[39;00m \u001b[43mdata\u001b[49m\u001b[43m[\u001b[49m\u001b[43mm\u001b[49m\u001b[43m]\u001b[49m \u001b[38;5;241m==\u001b[39m val:\n\u001b[0;32m      9\u001b[0m         \u001b[38;5;28;01mreturn\u001b[39;00m m\n\u001b[0;32m     11\u001b[0m     \u001b[38;5;28;01mif\u001b[39;00m data[m] \u001b[38;5;241m>\u001b[39m val:\n",
      "\u001b[1;31mIndexError\u001b[0m: list index out of range"
     ]
    }
   ],
   "source": [
    "def binary_search(data, val):\n",
    "    s = 0\n",
    "    e = len(data) - 1\n",
    "    \n",
    "    while s <= e:\n",
    "        m = int((s+e)//2)\n",
    "        \n",
    "        if data[m] == val:\n",
    "            return m\n",
    "        \n",
    "        if data[m] > val:\n",
    "            e = m - 1\n",
    "        else:\n",
    "            s = m + 1\n",
    "    \n",
    "    return -1\n",
    "\n",
    "print(func([1,3,5,6,7,8,9], 9))\n",
    "print(func([1,3,5,6,7,8], 9))\n",
    "\n",
    "\"\"\"\n",
    "data 1,3,5,6,7,8,9\n",
    "     0 1 2 3 4 5 6\n",
    "\n",
    "s = 0 3 5\n",
    "e   7 7 7\n",
    "m   3 3 5 6\n",
    "\n",
    "val 9\n",
    "\n",
    "data 1,3,5,6,7,8\n",
    "     0 1 2 3 4 5\n",
    "     \n",
    "s = 0 4 6\n",
    "e = 6 6 6\n",
    "m = 3 5 \n",
    "\n",
    "\"\"\"\n",
    "\n"
   ]
  },
  {
   "cell_type": "markdown",
   "id": "b2f28762",
   "metadata": {},
   "source": [
    "## Stack"
   ]
  },
  {
   "cell_type": "code",
   "execution_count": null,
   "id": "9fb463a7",
   "metadata": {},
   "outputs": [],
   "source": []
  },
  {
   "cell_type": "markdown",
   "id": "3a6b1805",
   "metadata": {},
   "source": [
    "LIFO: Last in First out.  \n",
    "\n",
    "Examples + terms:\n",
    "- Stack of plates, Stack trace\n",
    "- Stack overflow\n",
    "- Stack undeflow\n",
    "\n",
    "\n",
    "Operations:\n",
    "- push(): Add Data at the end/top\n",
    "- pop(): Remove data from the end/top\n",
    "- peek(): Look at the element at the top without removing it\n",
    "- empty()"
   ]
  },
  {
   "cell_type": "code",
   "execution_count": null,
   "id": "31e045ba",
   "metadata": {},
   "outputs": [],
   "source": []
  },
  {
   "cell_type": "code",
   "execution_count": 9,
   "id": "73482ca2",
   "metadata": {},
   "outputs": [
    {
     "name": "stdout",
     "output_type": "stream",
     "text": [
      "( 40\n",
      ") 41\n",
      "[ 91\n",
      "] 93\n",
      "{ 123\n",
      "} 125\n"
     ]
    }
   ],
   "source": [
    "for c in '()[]{}':\n",
    "    print(c, ord(c))"
   ]
  },
  {
   "cell_type": "markdown",
   "id": "435a6d00",
   "metadata": {},
   "source": [
    "\n",
    "\n",
    "**C++**  \n",
    "Stack:\n",
    "- push()\n",
    "- pop()\n",
    "- top()\n",
    "- empty()\n",
    "\n",
    "  \n",
    "Stack using Vector:\n",
    "- push: push_back()\n",
    "- pop: pop_back()\n",
    "- peek: back()\n",
    "- empty: empty()"
   ]
  },
  {
   "cell_type": "markdown",
   "id": "ac0b2984",
   "metadata": {},
   "source": [
    " "
   ]
  },
  {
   "cell_type": "markdown",
   "id": "31d8344a",
   "metadata": {},
   "source": [
    "\n",
    "\n",
    "**Java**  \n",
    "Stack:\n",
    "- push()\n",
    "- pop()\n",
    "- peek()\n",
    "- empty()"
   ]
  },
  {
   "cell_type": "code",
   "execution_count": null,
   "id": "8ced4c7e",
   "metadata": {},
   "outputs": [],
   "source": []
  },
  {
   "cell_type": "markdown",
   "id": "c5d934c6",
   "metadata": {},
   "source": [
    "### Time Complexity of Operations"
   ]
  },
  {
   "cell_type": "markdown",
   "id": "b302d171",
   "metadata": {},
   "source": [
    "```C++\n",
    "template <type T>\n",
    "class Stack {\n",
    "    \n",
    "    public:\n",
    "        void push_back(); # O(1)\n",
    "        void pop();       # O(1)\n",
    "        T peek();         # O(1)\n",
    "        bool empty();     # O(1)\n",
    "}\n",
    "```"
   ]
  },
  {
   "cell_type": "markdown",
   "id": "83d5e5cf",
   "metadata": {},
   "source": [
    " "
   ]
  },
  {
   "cell_type": "markdown",
   "id": "f9d59e56",
   "metadata": {},
   "source": [
    "## Queue\n",
    "- FIFO: First in First out\n"
   ]
  },
  {
   "cell_type": "markdown",
   "id": "6a4f410e",
   "metadata": {},
   "source": [
    "**Queue**  \n",
    "- Enqueue: Insert/ Add /Push: O(1)\n",
    "- Dequeue: Remove/ Delete/ Pop: O(1)\n",
    "- Peek(): O(1)\n",
    "- Empty(): O(1)\n",
    "\n",
    "**Dequeue**\n",
    "- Circular Queue\n",
    "- Double Ended Queue "
   ]
  },
  {
   "cell_type": "code",
   "execution_count": null,
   "id": "f3e52176",
   "metadata": {},
   "outputs": [],
   "source": []
  },
  {
   "cell_type": "markdown",
   "id": "5254ca2b",
   "metadata": {},
   "source": [
    "**Question**  \n",
    "https://leetcode.com/problems/valid-parentheses/"
   ]
  },
  {
   "cell_type": "markdown",
   "id": "ab3c4a49",
   "metadata": {},
   "source": [
    "TC: O(n)  \n",
    "SC: O(n)"
   ]
  },
  {
   "cell_type": "code",
   "execution_count": null,
   "id": "ec1ea9ef",
   "metadata": {},
   "outputs": [],
   "source": [
    "class Solution:\n",
    "    def isValid(self, s: str) -> bool:\n",
    "        brackets = {'(':')', '{':'}', '[':']' # O(1)\n",
    "\n",
    "        stack = [] # O(n)\n",
    "\n",
    "        for i in s:\n",
    "            if i in brackets:\n",
    "                stack.append(i)\n",
    "            else:\n",
    "                if len(stack) == 0 or i != brackets[stack.pop()]:\n",
    "                    return False\n",
    "\n",
    "        return len(stack) == 0"
   ]
  },
  {
   "cell_type": "markdown",
   "id": "4402aac3",
   "metadata": {},
   "source": [
    "```Java\n",
    "class Solution {\n",
    "    public boolean isValid(String s) {\n",
    "\n",
    "        char []arr = s.toCharArray();\n",
    "        Stack<Character> stack = new Stack<>();\n",
    "\n",
    "        for (char ch:arr){\n",
    "            if(stack.isEmpty()){\n",
    "                stack.push(ch);\n",
    "            }else{\n",
    "                char top = stack.peek();\n",
    "                if(ch-top==1 || ch -top == 2){\n",
    "                    stack.pop();\n",
    "                }else{\n",
    "                    stack.push(ch);\n",
    "                }\n",
    "            }\n",
    "        }\n",
    "        return stack.isEmpty();\n",
    "        \n",
    "    }\n",
    "}\n",
    "```"
   ]
  },
  {
   "cell_type": "markdown",
   "id": "ba83f83c",
   "metadata": {},
   "source": [
    "```Java\n",
    "class Solution {\n",
    "    public boolean isValid(String s) {\n",
    "        Stack<Character> st = new Stack<>();\n",
    "        // )\n",
    "        \n",
    "        for(int i = 0; i < s.length(); i++){ \n",
    "            if(s.charAt(i) == '(' || s.charAt(i) == '{' || s.charAt(i) == '['){\n",
    "                st.push(s.charAt(i));\n",
    "            }else{\n",
    "                if(st.isEmpty())\n",
    "                    return false;\n",
    "                else if((st.peek() == '(' && s.charAt(i) == ')')|| (st.peek() == '{' && s.charAt(i) == '}') || (st.peek() == '[' &&s.charAt(i) == ']'))\n",
    "                    st.pop();\n",
    "                else{\n",
    "                    return false;\n",
    "                }\n",
    "            }\n",
    "            \n",
    "        }\n",
    "        \n",
    "        return st.isEmpty();\n",
    "          \n",
    "    }\n",
    "}\n",
    "```"
   ]
  },
  {
   "cell_type": "markdown",
   "id": "c3f8d9b2",
   "metadata": {},
   "source": [
    "```C++\n",
    "class Solution {\n",
    "public:\n",
    "    bool isValid(string s) {\n",
    "      // ([)]   \n",
    "\n",
    "      stack<char> st;\n",
    "\n",
    "      for(auto c: s) {\n",
    "        if (c == '{' || c== '[' || c == '(') {\n",
    "            st.push(c);\n",
    "        } else {\n",
    "            if (st.empty()) {\n",
    "                return false;\n",
    "            }\n",
    "\n",
    "            if ((c == ')' && st.top() != '(') || (c == ']' && st.top() != '[') || (c == '}' && st.top() != '{')) {\n",
    "                return false;\n",
    "            }\n",
    "            st.pop();\n",
    "        }\n",
    "\n",
    "      }\n",
    "\n",
    "      return st.empty();\n",
    "    }\n",
    "};\n",
    "```"
   ]
  },
  {
   "cell_type": "code",
   "execution_count": null,
   "id": "41a269b3",
   "metadata": {},
   "outputs": [],
   "source": []
  },
  {
   "cell_type": "markdown",
   "id": "9497d047",
   "metadata": {},
   "source": [
    "## Next greater element\n"
   ]
  },
  {
   "cell_type": "code",
   "execution_count": null,
   "id": "9d82ce17",
   "metadata": {},
   "outputs": [],
   "source": [
    "// Brute Force\n",
    "//  for i=0; i < n; i++\n",
    "//     temp = -1\n",
    "//     for j = i+1; j < n; j++\n",
    "//          if a[i] < a[j]\n",
    "//               temp = a[j]\n",
    "//               break\n",
    "//      a[i] = temp\n",
    "// TC: O(n^2)\n",
    "// SC: O(1)\n",
    "// [3 4 -1 -1]"
   ]
  },
  {
   "cell_type": "code",
   "execution_count": 16,
   "id": "0d990a6d",
   "metadata": {},
   "outputs": [
    {
     "name": "stdout",
     "output_type": "stream",
     "text": [
      "[4, 4, 4, 5, -1, -1]\n",
      "[]\n",
      "[2, 3, 4, -1]\n",
      "[-1, -1, -1, -1]\n"
     ]
    }
   ],
   "source": [
    "# TC: O(n)\n",
    "# SC: O(n)\n",
    "\n",
    "def next_greater(data):\n",
    "    stack = [] # use list  as a stack\n",
    "    \n",
    "    for i in range(len(data)-1,-1,-1): # for(i=0;i<n;i++)\n",
    "        \n",
    "            \n",
    "        while len(stack) > 0 and stack[-1] < data[i]: # stack[-1] => top of stack\n",
    "            stack.pop()\n",
    "        curr = data[i]\n",
    "        \n",
    "        if len(stack) == 0:\n",
    "            data[i] = -1\n",
    "        else:\n",
    "            data[i] = stack[-1]\n",
    "        stack.append(curr)\n",
    "\n",
    "    return data\n",
    "\n",
    "print(next_greater([3,2,1,4,5,4]))\n",
    "print(next_greater([]))\n",
    "print(next_greater([1,2,3,4]))\n",
    "print(next_greater([4,3,2,1]))"
   ]
  },
  {
   "cell_type": "code",
   "execution_count": null,
   "id": "17083b20",
   "metadata": {},
   "outputs": [],
   "source": []
  },
  {
   "cell_type": "markdown",
   "id": "d93cac6e",
   "metadata": {},
   "source": [
    "https://leetcode.com/problems/daily-temperatures/"
   ]
  },
  {
   "cell_type": "code",
   "execution_count": null,
   "id": "c7d5506c",
   "metadata": {},
   "outputs": [],
   "source": [
    "     \n",
    "        [73,74,75,71,69,72,76,73]\n",
    "         0   1  2  3  4  5  6  7\n",
    "        [74,75,76,72,72,76,-1-1]\n",
    "        [1, 2, 6, 5, 5, 6,-1,-1]\n",
    "         0  1  2  3  4  5  6  7\n",
    "        [1, 1, 4, 2, 1, 1, 0, 0]"
   ]
  },
  {
   "cell_type": "code",
   "execution_count": null,
   "id": "1d712a9e",
   "metadata": {},
   "outputs": [],
   "source": [
    "## brute force\n",
    "# TC: O(n^2)\n",
    "# SC: O(1)\n",
    "class Solution {\n",
    "public:\n",
    "    vector<int> dailyTemperatures(vector<int>& temperatures) {\n",
    "        vector<int> answers;\n",
    "\n",
    "        for(int i = 0; i < temperatures.size(); i++) {\n",
    "            int ans =  0;\n",
    "            for(int j = i+1; j < temperatures.size(); j++){\n",
    "                if (temperatures[i] < temperatures[j]) {\n",
    "                    ans =  j-i;\n",
    "                    break;\n",
    "                }\n",
    "            }\n",
    "            answers.push_back(ans);\n",
    "        }\n",
    "        return answers;\n",
    "    }\n",
    "};"
   ]
  },
  {
   "cell_type": "code",
   "execution_count": null,
   "id": "f45d771e",
   "metadata": {},
   "outputs": [],
   "source": [
    "class Solution {\n",
    "public:\n",
    "    vector<int> dailyTemperatures(vector<int>& temperatures) {\n",
    "        vector<int> answers;\n",
    "        stack<int> st;\n",
    "\n",
    "        for(int i = temperatures.size()-1; i >= 0; i--) {\n",
    "            int ans = 0;\n",
    "            \n",
    "            while (!st.empty() && temperatures[st.top()] <= temperatures[i]) {\n",
    "                st.pop();\n",
    "            }\n",
    "\n",
    "            if (!st.empty()) {\n",
    "                ans = st.top() - i;\n",
    "            }\n",
    "            answers.push_back(ans);\n",
    "            st.push(i);\n",
    "        }\n",
    "        reverse(answers.begin(), answers.end());\n",
    "        return answers;\n",
    "    }\n",
    "};"
   ]
  },
  {
   "cell_type": "code",
   "execution_count": null,
   "id": "3b699ce8",
   "metadata": {},
   "outputs": [],
   "source": []
  },
  {
   "cell_type": "code",
   "execution_count": null,
   "id": "e6f41b0c",
   "metadata": {},
   "outputs": [],
   "source": []
  },
  {
   "cell_type": "markdown",
   "id": "6442e8e6",
   "metadata": {},
   "source": [
    "**Question**  \n",
    "https://leetcode.com/problems/next-greater-element-i/  \n",
    "\n",
    "Two approach:  \n",
    "- Value based (R->L)  \n",
    "- Index based (L->R)  "
   ]
  },
  {
   "cell_type": "code",
   "execution_count": null,
   "id": "0dc5b849",
   "metadata": {},
   "outputs": [],
   "source": []
  },
  {
   "cell_type": "code",
   "execution_count": null,
   "id": "bce7a940",
   "metadata": {},
   "outputs": [],
   "source": []
  },
  {
   "cell_type": "markdown",
   "id": "a59e62a0",
   "metadata": {},
   "source": [
    "**Question**  \n",
    "https://leetcode.com/problems/minimum-add-to-make-parentheses-valid/"
   ]
  },
  {
   "cell_type": "markdown",
   "id": "fdcc4958",
   "metadata": {},
   "source": [
    "### TC: O(n)   \n",
    "### SC: O(1) \n",
    "Using Stack"
   ]
  },
  {
   "cell_type": "code",
   "execution_count": null,
   "id": "5bcc3952",
   "metadata": {},
   "outputs": [],
   "source": [
    "class Solution {\n",
    "    public int minAddToMakeValid(String s) {\n",
    "        Stack<Character> st = new Stack<>();\n",
    "        \n",
    "        int invalidOpening = 0, invalidClosing = 0;\n",
    "        for(int i = 0; i < s.length(); i++){\n",
    "            if(s.charAt(i) == '(')\n",
    "                st.push(')');\n",
    "            else if(st.isEmpty())\n",
    "                invalidClosing++;\n",
    "            else if(s.charAt(i) == st.peek())\n",
    "                st.pop();\n",
    "        }\n",
    "        invalidOpening = st.size();\n",
    "        \n",
    "        return invalidOpening + invalidClosing;\n",
    "    }\n",
    "}"
   ]
  },
  {
   "cell_type": "code",
   "execution_count": null,
   "id": "2907e1ed",
   "metadata": {},
   "outputs": [],
   "source": [
    "class Solution:\n",
    "    def minAddToMakeValid(self, s: str) -> int:\n",
    "        stack = []\n",
    "        \n",
    "        for i in s:\n",
    "            if i == '(' or not stack or (stack and stack[-1] != '('):\n",
    "                stack.append(i)\n",
    "            else:\n",
    "                stack.pop()\n",
    "\n",
    "        return len(stack)"
   ]
  },
  {
   "cell_type": "code",
   "execution_count": null,
   "id": "8455ef52",
   "metadata": {},
   "outputs": [],
   "source": []
  },
  {
   "cell_type": "markdown",
   "id": "88e6917c",
   "metadata": {},
   "source": [
    "### TC: O(n)   \n",
    "### SC: O(1) \n",
    "Without Stack"
   ]
  },
  {
   "cell_type": "code",
   "execution_count": null,
   "id": "c7514d8d",
   "metadata": {},
   "outputs": [],
   "source": [
    "class Solution {\n",
    "    public int minAddToMakeValid(String s) {\n",
    "    int openParan = 0;\n",
    "       int count = 0;\n",
    "       for(char c : s.toCharArray()) {\n",
    "           if(c == '(') {\n",
    "               openParan++;\n",
    "            }\n",
    "           else if(c == ')') {\n",
    "               if(openParan > 0) openParan--;\n",
    "               else count++;\n",
    "           }\n",
    "        }\n",
    "       count += openParan;\n",
    "       return count;\n",
    "    }\n",
    "}"
   ]
  },
  {
   "cell_type": "code",
   "execution_count": null,
   "id": "c13d368d",
   "metadata": {},
   "outputs": [],
   "source": []
  },
  {
   "cell_type": "code",
   "execution_count": null,
   "id": "0564ad29",
   "metadata": {},
   "outputs": [],
   "source": []
  },
  {
   "cell_type": "markdown",
   "id": "899753a6",
   "metadata": {},
   "source": [
    "**Question**  \n",
    "https://leetcode.com/problems/next-greater-element-ii/"
   ]
  },
  {
   "cell_type": "code",
   "execution_count": null,
   "id": "6dba5f54",
   "metadata": {},
   "outputs": [],
   "source": []
  },
  {
   "cell_type": "code",
   "execution_count": null,
   "id": "590033b6",
   "metadata": {},
   "outputs": [],
   "source": []
  },
  {
   "cell_type": "code",
   "execution_count": null,
   "id": "91b49a13",
   "metadata": {},
   "outputs": [],
   "source": []
  }
 ],
 "metadata": {
  "kernelspec": {
   "display_name": "Python 3 (ipykernel)",
   "language": "python",
   "name": "python3"
  },
  "language_info": {
   "codemirror_mode": {
    "name": "ipython",
    "version": 3
   },
   "file_extension": ".py",
   "mimetype": "text/x-python",
   "name": "python",
   "nbconvert_exporter": "python",
   "pygments_lexer": "ipython3",
   "version": "3.10.9"
  }
 },
 "nbformat": 4,
 "nbformat_minor": 5
}
