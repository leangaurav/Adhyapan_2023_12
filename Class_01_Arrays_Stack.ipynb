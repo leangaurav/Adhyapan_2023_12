{
 "cells": [
  {
   "cell_type": "markdown",
   "id": "b2f28762",
   "metadata": {},
   "source": [
    "## Stack"
   ]
  },
  {
   "cell_type": "markdown",
   "id": "3a6b1805",
   "metadata": {},
   "source": [
    "LIFO: Last in First out.  \n",
    "\n",
    "Examples + terms:\n",
    "- Stack of plates, Stack trace\n",
    "- Stack overflow\n",
    "- Stack undeflow\n",
    "\n",
    "\n",
    "Operations:\n",
    "- push(): Add Data at the end/top\n",
    "- pop(): Remove data from the end/top\n",
    "- peek(): Look at the element at the top without removing it\n",
    "- empty()"
   ]
  },
  {
   "cell_type": "code",
   "execution_count": null,
   "id": "31e045ba",
   "metadata": {},
   "outputs": [],
   "source": []
  },
  {
   "cell_type": "code",
   "execution_count": null,
   "id": "73482ca2",
   "metadata": {},
   "outputs": [],
   "source": []
  },
  {
   "cell_type": "markdown",
   "id": "435a6d00",
   "metadata": {},
   "source": [
    "\n",
    "\n",
    "**C++**  \n",
    "Stack:\n",
    "- push()\n",
    "- pop()\n",
    "- top()\n",
    "- empty()\n",
    "\n",
    "  \n",
    "Stack using Vector:\n",
    "- push: push_back()\n",
    "- pop: pop_back()\n",
    "- peek: back()\n",
    "- empty: empty()"
   ]
  },
  {
   "cell_type": "markdown",
   "id": "ac0b2984",
   "metadata": {},
   "source": [
    " "
   ]
  },
  {
   "cell_type": "markdown",
   "id": "31d8344a",
   "metadata": {},
   "source": [
    "\n",
    "\n",
    "**Java**  \n",
    "Stack:\n",
    "- push()\n",
    "- pop()\n",
    "- peek()\n",
    "- empty()"
   ]
  },
  {
   "cell_type": "code",
   "execution_count": null,
   "id": "8ced4c7e",
   "metadata": {},
   "outputs": [],
   "source": []
  },
  {
   "cell_type": "markdown",
   "id": "c5d934c6",
   "metadata": {},
   "source": [
    "### Time Complexity of Operations"
   ]
  },
  {
   "cell_type": "markdown",
   "id": "b302d171",
   "metadata": {},
   "source": [
    "```C++\n",
    "template <type T>\n",
    "class Stack {\n",
    "    \n",
    "    public:\n",
    "        void push_back(); # O(1)\n",
    "        void pop();       # O(1)\n",
    "        T peek();         # O(1)\n",
    "        bool empty();     # O(1)\n",
    "}\n",
    "```"
   ]
  },
  {
   "cell_type": "markdown",
   "id": "83d5e5cf",
   "metadata": {},
   "source": [
    " "
   ]
  },
  {
   "cell_type": "markdown",
   "id": "f9d59e56",
   "metadata": {},
   "source": [
    "## Queue\n",
    "- FIFO: First in First out\n"
   ]
  },
  {
   "cell_type": "markdown",
   "id": "6a4f410e",
   "metadata": {},
   "source": [
    "**Queue**  \n",
    "- Enqueue: Insert/ Add /Push: O(1)\n",
    "- Dequeue: Remove/ Delete/ Pop: O(1)\n",
    "- Peek(): O(1)\n",
    "- Empty(): O(1)\n",
    "\n",
    "**Dequeue**\n",
    "- Circular Queue\n",
    "- Double Ended Queue "
   ]
  },
  {
   "cell_type": "code",
   "execution_count": null,
   "id": "f3e52176",
   "metadata": {},
   "outputs": [],
   "source": []
  },
  {
   "cell_type": "markdown",
   "id": "5254ca2b",
   "metadata": {},
   "source": [
    "**Question**  \n",
    "https://leetcode.com/problems/valid-parentheses/"
   ]
  },
  {
   "cell_type": "code",
   "execution_count": null,
   "id": "ec1ea9ef",
   "metadata": {},
   "outputs": [],
   "source": []
  },
  {
   "cell_type": "code",
   "execution_count": null,
   "id": "f45d771e",
   "metadata": {},
   "outputs": [],
   "source": []
  },
  {
   "cell_type": "markdown",
   "id": "6442e8e6",
   "metadata": {},
   "source": [
    "**Question**  \n",
    "https://leetcode.com/problems/next-greater-element-i/  \n",
    "\n",
    "Two approach:  \n",
    "- Value based (R->L)  \n",
    "- Index based (L->R)  "
   ]
  },
  {
   "cell_type": "code",
   "execution_count": null,
   "id": "0dc5b849",
   "metadata": {},
   "outputs": [],
   "source": []
  },
  {
   "cell_type": "code",
   "execution_count": null,
   "id": "bce7a940",
   "metadata": {},
   "outputs": [],
   "source": []
  },
  {
   "cell_type": "markdown",
   "id": "a59e62a0",
   "metadata": {},
   "source": [
    "**Question**  \n",
    "https://leetcode.com/problems/minimum-add-to-make-parentheses-valid/"
   ]
  },
  {
   "cell_type": "code",
   "execution_count": null,
   "id": "5bcc3952",
   "metadata": {},
   "outputs": [],
   "source": []
  },
  {
   "cell_type": "code",
   "execution_count": null,
   "id": "8455ef52",
   "metadata": {},
   "outputs": [],
   "source": []
  },
  {
   "cell_type": "markdown",
   "id": "899753a6",
   "metadata": {},
   "source": [
    "**Question**  \n",
    "https://leetcode.com/problems/next-greater-element-ii/"
   ]
  },
  {
   "cell_type": "code",
   "execution_count": null,
   "id": "6dba5f54",
   "metadata": {},
   "outputs": [],
   "source": []
  },
  {
   "cell_type": "code",
   "execution_count": null,
   "id": "91b49a13",
   "metadata": {},
   "outputs": [],
   "source": []
  }
 ],
 "metadata": {
  "kernelspec": {
   "display_name": "Python 3 (ipykernel)",
   "language": "python",
   "name": "python3"
  },
  "language_info": {
   "codemirror_mode": {
    "name": "ipython",
    "version": 3
   },
   "file_extension": ".py",
   "mimetype": "text/x-python",
   "name": "python",
   "nbconvert_exporter": "python",
   "pygments_lexer": "ipython3",
   "version": "3.10.9"
  }
 },
 "nbformat": 4,
 "nbformat_minor": 5
}
