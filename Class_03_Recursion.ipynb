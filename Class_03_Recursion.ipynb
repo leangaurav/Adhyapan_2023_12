{
 "cells": [
  {
   "cell_type": "markdown",
   "id": "46c349d5",
   "metadata": {},
   "source": [
    "# Thinking in Recursion"
   ]
  },
  {
   "cell_type": "markdown",
   "id": "80618e8c",
   "metadata": {},
   "source": [
    "- a function that calls itself is a recusive function\n",
    "- recursion uses stack memory\n",
    "- recursive functions have notion of a `base` or `terminating` condition\n"
   ]
  },
  {
   "cell_type": "markdown",
   "id": "3a5c2aba",
   "metadata": {},
   "source": [
    "\n",
    "1. Factorial\n",
    "1. https://leetcode.com/problems/reverse-string/\n",
    "1. https://leetcode.com/problems/power-of-two/\n",
    "1. https://leetcode.com/problems/decode-string/\n",
    "1. https://leetcode.com/problems/count-good-numbers/"
   ]
  },
  {
   "cell_type": "code",
   "execution_count": null,
   "id": "b9c5f1d9",
   "metadata": {},
   "outputs": [],
   "source": []
  },
  {
   "cell_type": "markdown",
   "id": "d78ed6de",
   "metadata": {},
   "source": [
    "**Question**  \n",
    "https://leetcode.com/problems/reverse-string/"
   ]
  },
  {
   "cell_type": "code",
   "execution_count": null,
   "id": "51b9d739",
   "metadata": {},
   "outputs": [],
   "source": [
    "class Solution {\n",
    "    public void reverseString(char[] s) {\n",
    "        \n",
    "        // TC O(n) SC: O(n)\n",
    "        reverseStringUtil(s, 0, s.length-1);\n",
    "        \n",
    "        \n",
    "        // TC O(n) SC: O(1)\n",
    "        // start = 0\n",
    "        // end = s.length\n",
    "        // while(start < end) {\n",
    "        //     char temp = s[start];\n",
    "        //     s[start] = s[end];\n",
    "        //     s[end] = temp;\n",
    "        //     start ++;\n",
    "        //     end--;\n",
    "        // }\n",
    "    }\n",
    "\n",
    "    public void reverseStringUtil(char[] s, int start, int end) {\n",
    "        if (start >= end)\n",
    "            return;\n",
    "\n",
    "        char temp = s[start];\n",
    "        s[start] = s[end];\n",
    "        s[end] = temp;\n",
    "        reverseStringUtil(s, start+1, end-1);\n",
    "    }\n",
    "}"
   ]
  },
  {
   "cell_type": "code",
   "execution_count": null,
   "id": "2e8c6614",
   "metadata": {},
   "outputs": [],
   "source": []
  },
  {
   "cell_type": "markdown",
   "id": "c69d0398",
   "metadata": {},
   "source": [
    "**Question**  \n",
    "https://leetcode.com/problems/power-of-two/"
   ]
  },
  {
   "cell_type": "code",
   "execution_count": null,
   "id": "83051e3a",
   "metadata": {},
   "outputs": [],
   "source": [
    "public class Solution {\n",
    "    public boolean isPowerOfTwo(int n) {\n",
    "        if (n <= 0) {\n",
    "            return false;\n",
    "        }\n",
    "        if (n == 1) {\n",
    "            return true;\n",
    "        }\n",
    "        if (n % 2 != 0) {\n",
    "            return false;\n",
    "        }\n",
    "        return isPowerOfTwo(n / 2);\n",
    "    }\n",
    "}"
   ]
  },
  {
   "cell_type": "code",
   "execution_count": null,
   "id": "1c077509",
   "metadata": {},
   "outputs": [],
   "source": [
    "if n <= 0:\n",
    "    return False\n",
    "if n == 1:\n",
    "    return True\n",
    "while(n%2==0):\n",
    "    n = n/2\n",
    "return n==1"
   ]
  },
  {
   "cell_type": "code",
   "execution_count": null,
   "id": "b91c3a52",
   "metadata": {},
   "outputs": [],
   "source": [
    "class Solution {\n",
    "    public boolean isPowerOfTwo(int n) {\n",
    "        if (n == 0) return false;\n",
    "        while (n != 1) {\n",
    "            if (n % 2 != 0) return false;\n",
    "            n /= 2;\n",
    "        }\n",
    "        return true;\n",
    "    }\n",
    "}"
   ]
  },
  {
   "cell_type": "code",
   "execution_count": null,
   "id": "7650210b",
   "metadata": {},
   "outputs": [],
   "source": [
    "class Solution {\n",
    "    public boolean isPowerOfTwo(int n) {\n",
    "        if (n==0)\n",
    "            return false;\n",
    "        if (n==1)\n",
    "            return true;\n",
    "        if(n%2==0){\n",
    "            return isPowerOfTwo(n / 2);\n",
    "        }\n",
    "        else{\n",
    "            return false;\n",
    "        }\n",
    "    }\n",
    "}"
   ]
  },
  {
   "cell_type": "code",
   "execution_count": null,
   "id": "3a313e35",
   "metadata": {},
   "outputs": [],
   "source": [
    "class Solution {\n",
    "    public boolean isPowerOfTwo(int n) {\n",
    "        if(n < 1)\n",
    "            return false;\n",
    "            if(n== 1)\n",
    "            return true;\n",
    "            if(n %2 ==1)\n",
    "            return false;\n",
    "            return (isPowerOfTwo(n/2));        \n",
    "    }\n",
    "}"
   ]
  },
  {
   "cell_type": "code",
   "execution_count": null,
   "id": "ff48c324",
   "metadata": {},
   "outputs": [],
   "source": [
    "class Solution { \n",
    "    public boolean isPowerOfTwo(int n) {\n",
    "        if(n < 1)return false; \n",
    "        if((n & n-1) == 0)return true; \n",
    "        return false;\n",
    "    }\n",
    "}"
   ]
  },
  {
   "cell_type": "code",
   "execution_count": null,
   "id": "e8781a3b",
   "metadata": {},
   "outputs": [],
   "source": [
    "public boolean isPowerOfTwo(int n) {\n",
    "        if (n == 1) {\n",
    "            return true;\n",
    "        }\n",
    "        if (n <= 0 || n % 2 != 0) {\n",
    "            return false;\n",
    "        }\n",
    "        return isPowerOfTwo(n / 2);\n",
    "    }"
   ]
  },
  {
   "cell_type": "code",
   "execution_count": null,
   "id": "4b844daa",
   "metadata": {},
   "outputs": [],
   "source": [
    "class Solution {\n",
    "    public boolean isPowerOfTwo(int n) {\n",
    "        if (n<1) return false;\n",
    "        if (n==1) return true;\n",
    "        if (n%2!=0) return false;\n",
    "        return isPowerOfTwo(n/2);\n",
    "    }\n",
    "}"
   ]
  },
  {
   "cell_type": "code",
   "execution_count": null,
   "id": "cee8b196",
   "metadata": {},
   "outputs": [],
   "source": [
    "class Solution {\n",
    "    public boolean isPowerOfTwo(int n) {\n",
    "          \n",
    "        if (n <= 0) {\n",
    "            return false;\n",
    "        }\n",
    "        if (n == 1) {\n",
    "            return true;\n",
    "        }\n",
    "        if (n % 2 != 0) {\n",
    "            return false;\n",
    "        }\n",
    "        return isPowerOfTwo(n / 2);\n",
    "    }\n",
    "}"
   ]
  },
  {
   "cell_type": "code",
   "execution_count": null,
   "id": "26ac5e94",
   "metadata": {},
   "outputs": [],
   "source": [
    "4  = 00100  3 =  00011\n",
    "8  = 01000  7 =  00111\n",
    "5  = 00101  4 =  00100\n",
    "24 = 11000 23 =  10111"
   ]
  },
  {
   "cell_type": "markdown",
   "id": "d3696810",
   "metadata": {},
   "source": [
    "**Question**  \n",
    "https://leetcode.com/problems/decode-string/"
   ]
  },
  {
   "cell_type": "code",
   "execution_count": null,
   "id": "9f2896a9",
   "metadata": {},
   "outputs": [],
   "source": []
  },
  {
   "cell_type": "code",
   "execution_count": null,
   "id": "585e6fb0",
   "metadata": {},
   "outputs": [],
   "source": []
  },
  {
   "cell_type": "markdown",
   "id": "f36092f0",
   "metadata": {},
   "source": [
    "**Question**  \n",
    "https://leetcode.com/problems/count-good-numbers/"
   ]
  },
  {
   "cell_type": "code",
   "execution_count": null,
   "id": "8c72da9a",
   "metadata": {},
   "outputs": [],
   "source": []
  },
  {
   "cell_type": "code",
   "execution_count": null,
   "id": "d8cc2fdc",
   "metadata": {},
   "outputs": [],
   "source": []
  },
  {
   "cell_type": "code",
   "execution_count": 1,
   "id": "c1482d54",
   "metadata": {},
   "outputs": [
    {
     "name": "stdout",
     "output_type": "stream",
     "text": [
      "f1\n"
     ]
    }
   ],
   "source": [
    "def f1():\n",
    "    print(\"f1\")\n",
    "    \n",
    "f1()"
   ]
  },
  {
   "cell_type": "code",
   "execution_count": 2,
   "id": "421a7d4e",
   "metadata": {},
   "outputs": [
    {
     "name": "stdout",
     "output_type": "stream",
     "text": [
      "f1\n",
      "f1\n"
     ]
    }
   ],
   "source": [
    "def f1():\n",
    "    print(\"f1\")\n",
    "    \n",
    "f1()\n",
    "f1()"
   ]
  },
  {
   "cell_type": "code",
   "execution_count": null,
   "id": "201f04c1",
   "metadata": {},
   "outputs": [],
   "source": []
  },
  {
   "cell_type": "code",
   "execution_count": 3,
   "id": "d8735c47",
   "metadata": {},
   "outputs": [
    {
     "name": "stdout",
     "output_type": "stream",
     "text": [
      "f1\n"
     ]
    }
   ],
   "source": [
    "def f1():\n",
    "    print(\"f1\")\n",
    "    \n",
    "def f2():\n",
    "    print(\"f2\")\n",
    "    \n",
    "f1()"
   ]
  },
  {
   "cell_type": "code",
   "execution_count": null,
   "id": "d219e5bd",
   "metadata": {},
   "outputs": [],
   "source": []
  },
  {
   "cell_type": "code",
   "execution_count": 4,
   "id": "a1ca8148",
   "metadata": {},
   "outputs": [
    {
     "name": "stdout",
     "output_type": "stream",
     "text": [
      "f1\n",
      "f2\n"
     ]
    }
   ],
   "source": [
    "def f1():\n",
    "    print(\"f1\")\n",
    "    f2()\n",
    "    \n",
    "def f2():\n",
    "    print(\"f2\")\n",
    "    \n",
    "f1()"
   ]
  },
  {
   "cell_type": "code",
   "execution_count": 5,
   "id": "81df2cee",
   "metadata": {},
   "outputs": [
    {
     "name": "stdout",
     "output_type": "stream",
     "text": [
      "f2\n",
      "f1\n"
     ]
    }
   ],
   "source": [
    "def f1():\n",
    "    f2()\n",
    "    print(\"f1\")\n",
    "    \n",
    "def f2():\n",
    "    print(\"f2\")\n",
    "    \n",
    "f1()"
   ]
  },
  {
   "cell_type": "code",
   "execution_count": 6,
   "id": "2738af3d",
   "metadata": {},
   "outputs": [
    {
     "name": "stdout",
     "output_type": "stream",
     "text": [
      "9\n",
      "10\n"
     ]
    }
   ],
   "source": [
    "def f1(n):\n",
    "    f2(n-1)\n",
    "    print(n)\n",
    "    \n",
    "def f2(n):\n",
    "    print(n)\n",
    "    \n",
    "f1(10)"
   ]
  },
  {
   "cell_type": "code",
   "execution_count": 4,
   "id": "4a609fd7",
   "metadata": {},
   "outputs": [
    {
     "name": "stdout",
     "output_type": "stream",
     "text": [
      "10\n",
      "9\n",
      "8\n",
      "7\n",
      "6\n",
      "5\n",
      "4\n",
      "3\n",
      "2\n",
      "1\n"
     ]
    }
   ],
   "source": [
    "# Recursive function\n",
    "def f1(n):\n",
    "    if n == 0: # terminating condition\n",
    "        return\n",
    "    print(n)\n",
    "    f1(n-1)\n",
    "    \n",
    "f1(10)"
   ]
  },
  {
   "cell_type": "code",
   "execution_count": 5,
   "id": "bffab5b4",
   "metadata": {},
   "outputs": [
    {
     "name": "stdout",
     "output_type": "stream",
     "text": [
      "1\n",
      "2\n",
      "3\n",
      "4\n",
      "5\n",
      "6\n",
      "7\n",
      "8\n",
      "9\n",
      "10\n"
     ]
    }
   ],
   "source": [
    "# Recursive function\n",
    "def f1(n):\n",
    "    if n == 0: # terminating condition\n",
    "        return\n",
    "    f1(n-1)\n",
    "    print(n)\n",
    "    \n",
    "f1(10)"
   ]
  },
  {
   "cell_type": "markdown",
   "id": "b0cfea66",
   "metadata": {},
   "source": [
    "#### Factorial of a number\n",
    "#### n! = 1*2*3...(n-1)*n\n",
    "\n",
    "```C++\n",
    "long fact(int n) {\n",
    "    long ans=1;\n",
    "    for(int i = 1; i <= n; i++) {\n",
    "        ans *= i;\n",
    "    }    \n",
    "    return ans;\n",
    "}\n",
    "\n",
    "long factv2(int n) {\n",
    "    if (n == 0) {\n",
    "        return 1;\n",
    "    }\n",
    "    return n*factv2(n-1);\n",
    "}\n",
    "\n",
    "int main() {\n",
    "    std::cout << \"Hello World!\\n\" << factv2(5);\n",
    "}\n",
    "\n",
    "/*\n",
    " f(5) -> 5*f(4) = 120\n",
    "            f(4) -> 4* f(3) =24 \n",
    "                        f(3) ->3*f(2) = 6\n",
    "                                f(2) -> 2*f(1) = 2\n",
    "                                        f(1) -> 1*f(0) = 1\n",
    "                                                    f(0) -> 1\n",
    "*/\n",
    "```"
   ]
  },
  {
   "cell_type": "code",
   "execution_count": null,
   "id": "c4a55b83",
   "metadata": {},
   "outputs": [],
   "source": []
  },
  {
   "cell_type": "code",
   "execution_count": null,
   "id": "6fa313b6",
   "metadata": {},
   "outputs": [],
   "source": []
  }
 ],
 "metadata": {
  "kernelspec": {
   "display_name": "Python 3 (ipykernel)",
   "language": "python",
   "name": "python3"
  },
  "language_info": {
   "codemirror_mode": {
    "name": "ipython",
    "version": 3
   },
   "file_extension": ".py",
   "mimetype": "text/x-python",
   "name": "python",
   "nbconvert_exporter": "python",
   "pygments_lexer": "ipython3",
   "version": "3.10.9"
  }
 },
 "nbformat": 4,
 "nbformat_minor": 5
}
