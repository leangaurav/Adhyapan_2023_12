{
 "cells": [
  {
   "cell_type": "markdown",
   "id": "aab50bc4",
   "metadata": {},
   "source": [
    "https://leetcode.com/problems/house-robber/description/"
   ]
  },
  {
   "cell_type": "markdown",
   "id": "9792b6ce",
   "metadata": {},
   "source": [
    "### Brute Force Solutions"
   ]
  },
  {
   "cell_type": "code",
   "execution_count": null,
   "id": "6cc15866",
   "metadata": {},
   "outputs": [],
   "source": [
    "class Solution:\n",
    "    def rob(self, nums: List[int]) -> int:\n",
    "        if len(nums) <= 2:\n",
    "            return max(nums)\n",
    "\n",
    "        include = nums[0] + self.rob(nums[2:])\n",
    "        exclude = self.rob(nums[1:])\n",
    "\n",
    "        return max( [include, exclude] )\n"
   ]
  },
  {
   "cell_type": "code",
   "execution_count": null,
   "id": "197cb322",
   "metadata": {},
   "outputs": [],
   "source": [
    "class Solution:\n",
    "    def rob(self, nums: List[int]) -> int:\n",
    "        return self.rob_util(nums, 0)\n",
    "\n",
    "    def rob_util(self, nums, i):\n",
    "        if i == len(nums)-1:\n",
    "            return nums[i]\n",
    "        elif i == len(nums)-2:\n",
    "            return max( [nums[i], nums[i+1]])\n",
    "    \n",
    "        include = nums[i] + self.rob_util(nums, i+2)        \n",
    "        exclude = self.rob_util(nums, i+1)\n",
    "\n",
    "        return max( [include, exclude] )\n"
   ]
  },
  {
   "cell_type": "code",
   "execution_count": null,
   "id": "f4d91a5a",
   "metadata": {},
   "outputs": [],
   "source": []
  },
  {
   "cell_type": "markdown",
   "id": "59f06d32",
   "metadata": {},
   "source": [
    "### Memoization"
   ]
  },
  {
   "cell_type": "code",
   "execution_count": null,
   "id": "562c356c",
   "metadata": {},
   "outputs": [],
   "source": [
    "class Solution:\n",
    "    def rob(self, nums: List[int]) -> int:\n",
    "        cache = {}\n",
    "        return self.rob_util(nums, 0, cache)\n",
    "\n",
    "    def rob_util(self, nums, i, cache):\n",
    "        if i == len(nums)-1:\n",
    "            return nums[i]\n",
    "        elif i == len(nums)-2:\n",
    "            return max( [nums[i], nums[i+1]])\n",
    "    \n",
    "        if i in cache:\n",
    "            return cache[i]\n",
    "\n",
    "        include = nums[i] + self.rob_util(nums, i+2, cache)        \n",
    "        exclude = self.rob_util(nums, i+1, cache)\n",
    "\n",
    "        cache[i] = max( [include, exclude] )\n",
    "        return cache[i]\n",
    "\n",
    "\n"
   ]
  },
  {
   "cell_type": "code",
   "execution_count": null,
   "id": "d9e09bc8",
   "metadata": {},
   "outputs": [],
   "source": []
  },
  {
   "cell_type": "code",
   "execution_count": null,
   "id": "e3b15ba6",
   "metadata": {},
   "outputs": [],
   "source": []
  },
  {
   "cell_type": "markdown",
   "id": "66da2b6c",
   "metadata": {},
   "source": [
    "```\n",
    "Knapsack problem\n",
    "\n",
    "Given max weight W\n",
    "array of weights and values\n",
    "optimize for max value, staying within the limit of max weight\n",
    "Return max value that can be put in knapsack\n",
    "\n",
    "\n",
    "values  [10 20 60]\n",
    "weights [20 40 30]\n",
    "\n",
    "W = 60\n",
    "maxValue ?\n",
    "\n",
    "               20\n",
    "        / 60         \\ 40\n",
    "        40            40\n",
    "     / 60  \\ 20    / 40     \\ 0  \n",
    "```"
   ]
  },
  {
   "cell_type": "code",
   "execution_count": 8,
   "id": "c627b5d3",
   "metadata": {},
   "outputs": [
    {
     "name": "stdout",
     "output_type": "stream",
     "text": [
      "70\n",
      "80\n"
     ]
    }
   ],
   "source": [
    "def knapsack(w, v, W):\n",
    "    if W == 0:\n",
    "        return 0\n",
    "    if len(w) == 0:\n",
    "        return 0\n",
    "    \n",
    "    include = 0\n",
    "    if w[0] <= W: # there is capacity to use current weight\n",
    "        include = v[0] + knapsack(w[1:], v[1:], W-w[0]) \n",
    "    exclude = knapsack(w[1:], v[1:], W)\n",
    "    \n",
    "    return max([include, exclude])\n",
    "    \n",
    "    \n",
    "print(knapsack([20,40,30],[10,20,60], 60))\n",
    "print(knapsack([20,40,30],[10,20,60], 70))\n",
    "    "
   ]
  },
  {
   "cell_type": "code",
   "execution_count": 11,
   "id": "6dfa04ff",
   "metadata": {},
   "outputs": [
    {
     "name": "stdout",
     "output_type": "stream",
     "text": [
      "70\n",
      "80\n"
     ]
    }
   ],
   "source": [
    "def knapsack(w, v, W):\n",
    "    return knapsack_util(w, v, W, 0)\n",
    "    \n",
    "def knapsack_util(w, v, W, i):\n",
    "    if W == 0:\n",
    "        return 0\n",
    "    if i == len(w):\n",
    "        return 0\n",
    "    \n",
    "    include = 0\n",
    "    if w[i] <= W: # there is capacity to use current weight\n",
    "        include = v[i] + knapsack_util(w, v, W-w[i], i+1) \n",
    "    exclude = knapsack_util(w, v, W, i+1)\n",
    "    \n",
    "    return max([include, exclude])\n",
    "\n",
    "print(knapsack([20,40,30],[10,20,60], 60))\n",
    "print(knapsack([20,40,30],[10,20,60], 70))"
   ]
  },
  {
   "cell_type": "code",
   "execution_count": null,
   "id": "65b59fe0",
   "metadata": {},
   "outputs": [],
   "source": []
  }
 ],
 "metadata": {
  "kernelspec": {
   "display_name": "Python 3 (ipykernel)",
   "language": "python",
   "name": "python3"
  },
  "language_info": {
   "codemirror_mode": {
    "name": "ipython",
    "version": 3
   },
   "file_extension": ".py",
   "mimetype": "text/x-python",
   "name": "python",
   "nbconvert_exporter": "python",
   "pygments_lexer": "ipython3",
   "version": "3.10.9"
  }
 },
 "nbformat": 4,
 "nbformat_minor": 5
}
