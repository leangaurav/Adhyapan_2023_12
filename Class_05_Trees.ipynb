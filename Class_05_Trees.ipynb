{
 "cells": [
  {
   "cell_type": "markdown",
   "id": "b95afe7c",
   "metadata": {},
   "source": [
    "# Tree"
   ]
  },
  {
   "cell_type": "code",
   "execution_count": null,
   "id": "64676da1",
   "metadata": {},
   "outputs": [],
   "source": []
  },
  {
   "cell_type": "markdown",
   "id": "db3576af",
   "metadata": {},
   "source": [
    "**What is a tree**  \n",
    "```\n",
    "```"
   ]
  },
  {
   "cell_type": "markdown",
   "id": "9322dbee",
   "metadata": {},
   "source": [
    "**Binary Tree**  \n",
    "- Node, Root, Leaf\n",
    "- Sub tree\n",
    "- Calculate number of nodes in a perfect binary tree\n",
    "- Calculate min height, given number of nodes"
   ]
  },
  {
   "cell_type": "code",
   "execution_count": null,
   "id": "e0ae4ada",
   "metadata": {},
   "outputs": [],
   "source": []
  },
  {
   "cell_type": "markdown",
   "id": "225a2811",
   "metadata": {},
   "source": [
    "**Binary and n-ary trees**  \n"
   ]
  },
  {
   "cell_type": "markdown",
   "id": "7c75e775",
   "metadata": {},
   "source": [
    " "
   ]
  },
  {
   "cell_type": "markdown",
   "id": "9b272274",
   "metadata": {},
   "source": [
    "**Skew Tree**  \n",
    "- Depth/height of skew tree\n",
    "- Worst case complexity ?"
   ]
  },
  {
   "cell_type": "markdown",
   "id": "721bbcba",
   "metadata": {},
   "source": [
    " "
   ]
  },
  {
   "cell_type": "markdown",
   "id": "c599b638",
   "metadata": {},
   "source": [
    "**Representation of a Tree**  \n",
    "- Linked\n",
    "- Array\n"
   ]
  },
  {
   "cell_type": "markdown",
   "id": "c05a3e50",
   "metadata": {},
   "source": [
    "\n",
    "**Full binary tree:** every node has either 0 or 2 children\n",
    "```\n",
    "Y\n",
    "   1\n",
    "  / \\\n",
    " 2   3\n",
    " \n",
    "Y\n",
    "      1\n",
    "     / \\\n",
    "    2   3\n",
    "   / \\\n",
    "  4   5\n",
    "  \n",
    "N\n",
    "      1\n",
    "     / \\\n",
    "    2   3\n",
    "   /\n",
    "  4  \n",
    "  \n",
    "Y\n",
    "      1\n",
    "     / \\\n",
    "    2   3\n",
    "       / \\\n",
    "      4   5\n",
    "  \n",
    "N\n",
    "      1\n",
    "     / \\\n",
    "    2   3\n",
    "         \\\n",
    "          4  \n",
    "```\n",
    "**Complete binary tree:** every level, except possibly the last is completely filled. Last level nodes are filled from the left to right. Can be represented using arrays. Ex: binary heap.\n",
    "```\n",
    "Y\n",
    "  1\n",
    " / \\\n",
    "2   3\n",
    " \n",
    "Y\n",
    "      1\n",
    "     / \\\n",
    "    2   3\n",
    "   / \\\n",
    "  4   5\n",
    "  \n",
    "Y\n",
    "      1\n",
    "     / \\\n",
    "    2   3\n",
    "   /\n",
    "  4  \n",
    "  \n",
    "N\n",
    "      1\n",
    "     / \\\n",
    "    2   3\n",
    "       / \\\n",
    "      4   5\n",
    "  \n",
    "N\n",
    "      1\n",
    "     / \\\n",
    "    2   3\n",
    "       /\n",
    "      4  \n",
    "   \n",
    "```\n",
    "**Perfect binary tree:** all interior nodes have two children and all leaves have the same depth or same level. (2^h -1) nodes. All levels are completely filled.\n"
   ]
  },
  {
   "cell_type": "markdown",
   "id": "04cfc83e",
   "metadata": {},
   "source": [
    " "
   ]
  },
  {
   "cell_type": "markdown",
   "id": "64de9f0a",
   "metadata": {},
   "source": [
    "**Max Number of nodes in a tree**  "
   ]
  },
  {
   "cell_type": "markdown",
   "id": "9c2d2a8f",
   "metadata": {},
   "source": [
    "  "
   ]
  },
  {
   "cell_type": "markdown",
   "id": "5eebc950",
   "metadata": {},
   "source": [
    "**Linked representation of tree **\n",
    "\n",
    "```\n",
    "C++ \n",
    "struct Node {\n",
    "    int data;\n",
    "    Node * left;\n",
    "    Node * right;\n",
    "};\n",
    "\n",
    "\n",
    "JAVA\n",
    "class Node {\n",
    "    public int data;\n",
    "    public Node left;\n",
    "    public Node right;\n",
    "    \n",
    "    public Node(int data, Node left=null, Node right=null) {\n",
    "        this.data= data;\n",
    "        this.left = left;\n",
    "        this.righ = right;\n",
    "    }\n",
    "}\n",
    "\n",
    "\n",
    "PYTHON\n",
    "\n",
    "class Node:\n",
    "    def __init__(self, data, left=None, right=None):\n",
    "        self.data = data\n",
    "        self.left = left\n",
    "        self.right = right\n",
    "\n",
    "```"
   ]
  },
  {
   "cell_type": "markdown",
   "id": "ae89b327",
   "metadata": {},
   "source": []
  },
  {
   "cell_type": "markdown",
   "id": "c6de8fbf",
   "metadata": {},
   "source": [
    "##  Height vs Depth  \n",
    "- Height: measured bottom up: Height of leaf node=0\n",
    "- Depth: measured top to bottom: Depth of root node=0\n",
    "\n",
    "Level=Depth (can start from 0/1)\n"
   ]
  },
  {
   "cell_type": "markdown",
   "id": "f6f7804e",
   "metadata": {},
   "source": [
    " "
   ]
  },
  {
   "cell_type": "markdown",
   "id": "e0fa4965",
   "metadata": {},
   "source": [
    "**Finding max depth of binary tree using recursion**  \n",
    "https://leetcode.com/problems/maximum-depth-of-binary-tree/"
   ]
  },
  {
   "cell_type": "code",
   "execution_count": null,
   "id": "62ee5e87",
   "metadata": {},
   "outputs": [],
   "source": [
    "class Solution {\n",
    "public:\n",
    "    int maxDepth(TreeNode* root) {\n",
    "        if (root == NULL) {\n",
    "            return 0;\n",
    "        }\n",
    "        return 1 + max(maxDepth(root->left), maxDepth(root->right));\n",
    "    }\n",
    "};\n"
   ]
  },
  {
   "cell_type": "code",
   "execution_count": null,
   "id": "752b5c37",
   "metadata": {},
   "outputs": [],
   "source": [
    "# Definition for a binary tree node.\n",
    "# class TreeNode:\n",
    "#     def __init__(self, val=0, left=None, right=None):\n",
    "#         self.val = val\n",
    "#         self.left = left\n",
    "#         self.right = right\n",
    "\n",
    "# BFS with dummy node\n",
    "import queue\n",
    "class Solution:\n",
    "    def maxDepth(self, root: Optional[TreeNode]) -> int:\n",
    "        if root is None:\n",
    "            return 0\n",
    "\n",
    "        count = 0\n",
    "        q = queue.Queue()\n",
    "        q.put(root)\n",
    "        q.put(None)\n",
    "        \n",
    "        while not q.empty():\n",
    "            curr  = q.get()\n",
    "\n",
    "            if curr is None:\n",
    "                count += 1\n",
    "                if not q.empty():\n",
    "                    q.put(None)\n",
    "            else:\n",
    "                if curr.left:\n",
    "                    q.put(curr.left)\n",
    "                if curr.right:\n",
    "                    q.put(curr.right)\n",
    "\n",
    "        return count\n",
    "        "
   ]
  },
  {
   "cell_type": "code",
   "execution_count": null,
   "id": "435ed62c",
   "metadata": {},
   "outputs": [],
   "source": [
    "# BFS Without Sentinel or dummy node\n",
    "import queue\n",
    "class Solution:\n",
    "    def maxDepth(self, root: Optional[TreeNode]) -> int:\n",
    "        if root is None:\n",
    "            return 0\n",
    "\n",
    "        q = queue.Queue()\n",
    "        q.put(root)\n",
    "\n",
    "        count = 1\n",
    "        levels = 0\n",
    "        \n",
    "        while count > 0:\n",
    "            t = 0\n",
    "            levels += 1\n",
    "            \n",
    "            for i in range(count):\n",
    "                curr  = q.get()\n",
    "                if curr.left:\n",
    "                    q.put(curr.left)\n",
    "                    t += 1\n",
    "                if curr.right:\n",
    "                    q.put(curr.right)\n",
    "                    t += 1\n",
    "\n",
    "            count = t\n",
    "\n",
    "        return levels\n",
    "        "
   ]
  },
  {
   "cell_type": "markdown",
   "id": "ba55e026",
   "metadata": {},
   "source": [
    "**DIY**  \n",
    "https://leetcode.com/problems/minimum-depth-of-binary-tree/"
   ]
  },
  {
   "cell_type": "code",
   "execution_count": null,
   "id": "7c1149d9",
   "metadata": {},
   "outputs": [],
   "source": [
    "class Solution {\n",
    "    public int minDepth(TreeNode root) {\n",
    "       \n",
    "        if (root == null) {\n",
    "            return 0;\n",
    "        }\n",
    "        if (root.left  null && root.right  null) {\n",
    "            return 1;\n",
    "        }\n",
    "        if (root.left == null) {\n",
    "            return 1 + minDepth(root.right);\n",
    "        }\n",
    "        if (root.right == null) {\n",
    "            return 1 + minDepth(root.left);\n",
    "        }\n",
    "        return Math.min(minDepth(root.left), minDepth(root.right)) + 1;\n",
    "    }\n",
    "}"
   ]
  },
  {
   "cell_type": "code",
   "execution_count": null,
   "id": "c7619dab",
   "metadata": {},
   "outputs": [],
   "source": []
  },
  {
   "cell_type": "markdown",
   "id": "870ecfe7",
   "metadata": {},
   "source": [
    "https://leetcode.com/problems/maximum-width-of-binary-tree/"
   ]
  },
  {
   "cell_type": "code",
   "execution_count": null,
   "id": "9bfcc06b",
   "metadata": {},
   "outputs": [],
   "source": [
    "# Definition for a binary tree node.\n",
    "# class TreeNode:\n",
    "#     def __init__(self, val=0, left=None, right=None):\n",
    "#         self.val = val\n",
    "#         self.left = left\n",
    "#         self.right = right\n",
    "\n",
    "import queue\n",
    "class Solution:\n",
    "    def widthOfBinaryTree(self, root: Optional[TreeNode]) -> int:\n",
    "        if root is None:\n",
    "            return 0\n",
    "\n",
    "        q = queue.Queue()\n",
    "        q.put(root)\n",
    "\n",
    "        count = 1\n",
    "        max_width = 0\n",
    "        has_next_level = True\n",
    "        \n",
    "        while has_next_level:\n",
    "            t = 0\n",
    "            width = 0\n",
    "            \n",
    "            has_node_at_current_level = False\n",
    "            has_next_level = False\n",
    "            for i in range(count):\n",
    "                curr  = q.get()\n",
    "                \n",
    "                if curr is not None or has_node_at_current_level:\n",
    "                    width += 1\n",
    "\n",
    "                if curr is not None:\n",
    "                    has_node_at_current_level = True\n",
    "                    max_width = max([width, max_width])\n",
    "                \n",
    "                t += 2\n",
    "                if curr is not None and curr.left:\n",
    "                    has_next_level = True\n",
    "                    q.put(curr.left)\n",
    "                else:\n",
    "                    q.put(None)\n",
    "                \n",
    "                if curr is not None and curr.right:\n",
    "                    has_next_level = True\n",
    "                    q.put(curr.right)\n",
    "                else:\n",
    "                    q.put(None)\n",
    "\n",
    "            count = t\n",
    "\n",
    "        return max_width"
   ]
  },
  {
   "cell_type": "code",
   "execution_count": null,
   "id": "ec21d34c",
   "metadata": {},
   "outputs": [],
   "source": [
    "# Definition for a binary tree node.\n",
    "# class TreeNode:\n",
    "#     def __init__(self, val=0, left=None, right=None):\n",
    "#         self.val = val\n",
    "#         self.left = left\n",
    "#         self.right = right\n",
    "\n",
    "import queue\n",
    "class Solution:\n",
    "    def widthOfBinaryTree(self, root: Optional[TreeNode]) -> int:\n",
    "        \n",
    "        depths = {}\n",
    "\n",
    "        self.widthOfBinaryTreeUtil(root, 0, 1, depths)\n",
    "        print(depths)\n",
    "\n",
    "        max_width = 0\n",
    "        for l, r in depths.values():\n",
    "            max_width = max(max_width, (r-l+1))\n",
    "\n",
    "        return max_width\n",
    "\n",
    "    def widthOfBinaryTreeUtil(self, root, level, curr, depths):\n",
    "        if root is None:\n",
    "            return\n",
    "        \n",
    "        if level not in depths:\n",
    "            depths[level] = [curr, curr]\n",
    "        else:\n",
    "            l, r = depths[level]\n",
    "            depths[level] = [min(l, curr), max(l, curr)]\n",
    "        \n",
    "        self.widthOfBinaryTreeUtil(root.left, level+1, curr*2-1, depths)\n",
    "        self.widthOfBinaryTreeUtil(root.right, level+1, curr*2, depths)"
   ]
  },
  {
   "cell_type": "code",
   "execution_count": null,
   "id": "22081981",
   "metadata": {},
   "outputs": [],
   "source": []
  },
  {
   "cell_type": "markdown",
   "id": "c66284a4",
   "metadata": {},
   "source": [
    "**Question**  \n",
    "https://leetcode.com/problems/symmetric-tree/\n",
    "\n",
    "**DIY**  \n",
    "https://leetcode.com/problems/same-tree/"
   ]
  },
  {
   "cell_type": "code",
   "execution_count": null,
   "id": "e728bcaf",
   "metadata": {},
   "outputs": [],
   "source": []
  },
  {
   "cell_type": "markdown",
   "id": "9760b1c3",
   "metadata": {},
   "source": [
    "## Operations in a Tree  \n",
    "- Add\n",
    "- Remove \n",
    "- Traverse\n",
    "- Search\n",
    "    "
   ]
  },
  {
   "cell_type": "code",
   "execution_count": null,
   "id": "7db95934",
   "metadata": {},
   "outputs": [],
   "source": []
  },
  {
   "cell_type": "markdown",
   "id": "382b00f9",
   "metadata": {},
   "source": [
    "## Traversal of a tree"
   ]
  },
  {
   "cell_type": "markdown",
   "id": "4037c1f3",
   "metadata": {},
   "source": [
    "**Depth First Traversal, DFS = Stack**  \n",
    "- rLR\n",
    "- LrR\n",
    "- LRr\n",
    "\n"
   ]
  },
  {
   "cell_type": "markdown",
   "id": "e318fc10",
   "metadata": {},
   "source": [
    " "
   ]
  },
  {
   "cell_type": "markdown",
   "id": "aed0c32b",
   "metadata": {},
   "source": [
    "**Recursive implementation of DFS**  "
   ]
  },
  {
   "cell_type": "code",
   "execution_count": null,
   "id": "e7a44d3c",
   "metadata": {},
   "outputs": [],
   "source": []
  },
  {
   "cell_type": "markdown",
   "id": "3ff065f1",
   "metadata": {},
   "source": [
    "**Breadth First / Level Order Traversal, BFS = Queue**  \n"
   ]
  },
  {
   "cell_type": "code",
   "execution_count": null,
   "id": "a8b563d0",
   "metadata": {},
   "outputs": [],
   "source": []
  },
  {
   "cell_type": "markdown",
   "id": "66a7a8cf",
   "metadata": {},
   "source": [
    "**Question**  \n",
    "https://leetcode.com/problems/path-sum-ii/"
   ]
  },
  {
   "cell_type": "code",
   "execution_count": null,
   "id": "31a7beef",
   "metadata": {},
   "outputs": [],
   "source": []
  },
  {
   "cell_type": "markdown",
   "id": "37ebcf19",
   "metadata": {},
   "source": [
    "Right view:  \n",
    "https://leetcode.com/problems/binary-tree-right-side-view/\n",
    "    \n",
    "Solution-1\n",
    "BFS:\n",
    "1. In BFS solution keep additional Node pointer\n",
    "2. Update the pointer each time we pop from queue (update when not null)\n",
    "3. When we get the level change marker i.e. NULL, update the result with the value in pointer.\n",
    "\n",
    "\n",
    "Solution-2\n",
    "DFS:\n",
    "    1. Preorder\n",
    "    2. Inorder\n",
    "    3. PostOrder\n",
    "    \n",
    "rRL"
   ]
  },
  {
   "cell_type": "markdown",
   "id": "9ee20cfc",
   "metadata": {},
   "source": [
    "**Top View**  \n",
    "https://www.hackerrank.com/challenges/tree-top-view/problem\n"
   ]
  },
  {
   "cell_type": "markdown",
   "id": "a9ef10cc",
   "metadata": {},
   "source": [
    "**Bottom view**  \n",
    "https://practice.geeksforgeeks.org/problems/bottom-view-of-binary-tree/1"
   ]
  },
  {
   "cell_type": "code",
   "execution_count": null,
   "id": "bb4f6dc5",
   "metadata": {},
   "outputs": [],
   "source": [
    "https://leetcode.com/problems/vertical-order-traversal-of-a-binary-tree/"
   ]
  },
  {
   "cell_type": "code",
   "execution_count": null,
   "id": "f5dbc6b2",
   "metadata": {},
   "outputs": [],
   "source": []
  },
  {
   "cell_type": "code",
   "execution_count": null,
   "id": "457eea72",
   "metadata": {},
   "outputs": [],
   "source": []
  },
  {
   "cell_type": "code",
   "execution_count": 4,
   "id": "2f811a5b",
   "metadata": {},
   "outputs": [
    {
     "name": "stdout",
     "output_type": "stream",
     "text": [
      "1\n",
      "2\n",
      "4\n",
      "5\n",
      "3\n",
      "\n",
      "4\n",
      "2\n",
      "5\n",
      "1\n",
      "3\n",
      "\n",
      "4\n",
      "5\n",
      "2\n",
      "3\n",
      "1\n",
      "\n",
      "1\n",
      "2\n",
      "3\n",
      "4\n",
      "5\n"
     ]
    }
   ],
   "source": [
    "import queue\n",
    "\n",
    "class Node:\n",
    "    def __init__(self, data, left=None, right=None):\n",
    "        self.data = data\n",
    "        self.left = left\n",
    "        self.right = right\n",
    "        \n",
    "\n",
    "def preorder(root):\n",
    "    if root is None:\n",
    "        return\n",
    "    print(root.data)\n",
    "    preorder(root.left)\n",
    "    preorder(root.right)\n",
    "        \n",
    "def inorder(root):\n",
    "    if root is None:\n",
    "        return\n",
    "    inorder(root.left)\n",
    "    print(root.data)\n",
    "    inorder(root.right)\n",
    "\n",
    "def postorder(root):\n",
    "    if root is None:\n",
    "        return\n",
    "    postorder(root.left)\n",
    "    postorder(root.right)\n",
    "    print(root.data)\n",
    "    \n",
    "def bfs(root):\n",
    "    if root is None:\n",
    "        return\n",
    "    \n",
    "    q = queue.Queue()\n",
    "    q.put(root)\n",
    "    \n",
    "    while(not q.empty()):\n",
    "        curr = q.get()\n",
    "        print(curr.data)\n",
    "        if curr.left:\n",
    "            q.put(curr.left)\n",
    "        if curr.right:\n",
    "            q.put(curr.right)\n",
    "    \n",
    "#       1\n",
    "#    2     3\n",
    "#  4   5    \n",
    "#\n",
    "#\n",
    "n4 = Node(4)\n",
    "n5 = Node(5)\n",
    "n2 = Node(2, n4, n5)\n",
    "n3 = Node(3)\n",
    "n1 = Node(1, n2, n3)\n",
    "\n",
    "preorder(n1)\n",
    "print()\n",
    "inorder(n1)\n",
    "print()\n",
    "postorder(n1)\n",
    "print()\n",
    "bfs(n1)"
   ]
  }
 ],
 "metadata": {
  "kernelspec": {
   "display_name": "Python 3 (ipykernel)",
   "language": "python",
   "name": "python3"
  },
  "language_info": {
   "codemirror_mode": {
    "name": "ipython",
    "version": 3
   },
   "file_extension": ".py",
   "mimetype": "text/x-python",
   "name": "python",
   "nbconvert_exporter": "python",
   "pygments_lexer": "ipython3",
   "version": "3.10.9"
  }
 },
 "nbformat": 4,
 "nbformat_minor": 5
}
