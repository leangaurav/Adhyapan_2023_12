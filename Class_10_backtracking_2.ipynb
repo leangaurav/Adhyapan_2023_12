{
 "cells": [
  {
   "cell_type": "code",
   "execution_count": 2,
   "id": "7bdc473b",
   "metadata": {},
   "outputs": [
    {
     "name": "stdout",
     "output_type": "stream",
     "text": [
      "[1, 2, 3]\n",
      "[1, 2]\n",
      "[1, 3]\n",
      "[1]\n",
      "[2, 3]\n",
      "[2]\n",
      "[3]\n",
      "[]\n"
     ]
    }
   ],
   "source": [
    "def combinations(candidates):\n",
    "    curr = []\n",
    "    pos = 0\n",
    "    util(candidates, pos, curr)\n",
    "\n",
    "        \n",
    "def util(candidates, pos, curr):\n",
    "    if pos == len(candidates):\n",
    "        print(curr)\n",
    "        return\n",
    "    \n",
    "    curr.append(candidates[pos])\n",
    "    util(candidates, pos + 1, curr)\n",
    "    curr.pop()\n",
    "    \n",
    "    util(candidates, pos + 1, curr)\n",
    "    \n",
    "combinations([1,2,3])\n",
    "    "
   ]
  },
  {
   "cell_type": "code",
   "execution_count": 6,
   "id": "b2bc0e47",
   "metadata": {},
   "outputs": [
    {
     "name": "stdout",
     "output_type": "stream",
     "text": [
      "[1, 2, 3]\n",
      "[1, 2]\n",
      "[1, 3]\n",
      "[1]\n",
      "[2, 3]\n",
      "[2]\n",
      "[3]\n",
      "[]\n"
     ]
    }
   ],
   "source": [
    "def combinations(candidates):\n",
    "    curr = []\n",
    "    pos = 0\n",
    "    util(candidates, pos, curr)\n",
    "        \n",
    "def util(candidates, pos, curr):\n",
    "    if pos == len(candidates):\n",
    "        print(curr)\n",
    "        return\n",
    "    \n",
    "    util(candidates, pos + 1, curr + [candidates[pos] ] )\n",
    "    util(candidates, pos + 1, curr)\n",
    "\n",
    "combinations([1,2,3])"
   ]
  },
  {
   "cell_type": "code",
   "execution_count": 4,
   "id": "2e84fcc7",
   "metadata": {},
   "outputs": [
    {
     "name": "stdout",
     "output_type": "stream",
     "text": [
      "[1]\n",
      "[1, 2, 3]\n"
     ]
    }
   ],
   "source": [
    "a = []\n",
    "print(a + [1])\n",
    "\n",
    "a = [1,2]\n",
    "print(a + [3])"
   ]
  },
  {
   "cell_type": "code",
   "execution_count": null,
   "id": "b05fc871",
   "metadata": {},
   "outputs": [],
   "source": []
  },
  {
   "cell_type": "code",
   "execution_count": 9,
   "id": "3f2fdbb3",
   "metadata": {},
   "outputs": [
    {
     "name": "stdout",
     "output_type": "stream",
     "text": [
      "[1, 1, 1, 1]\n",
      "[1, 1, 2]\n",
      "[1, 3]\n",
      "[2, 2]\n"
     ]
    }
   ],
   "source": [
    "def combinations(candidates, target_sum):\n",
    "    curr = []\n",
    "    pos = 0\n",
    "    util(candidates, pos, curr, target_sum)\n",
    "\n",
    "        \n",
    "def util(candidates, pos, curr, target_sum):\n",
    "    if target_sum == 0:\n",
    "        print(curr)\n",
    "        return\n",
    "    \n",
    "    if target_sum < 0:\n",
    "        return\n",
    "    \n",
    "    if pos == len(candidates):\n",
    "        return\n",
    "\n",
    "    ## modify this part\n",
    "    curr.append(candidates[pos])\n",
    "    util(candidates, pos, curr, target_sum-candidates[pos])\n",
    "    curr.pop()\n",
    "    \n",
    "    util(candidates, pos + 1, curr, target_sum)\n",
    "    \n",
    "combinations([1,2,3], 4)\n",
    "    "
   ]
  },
  {
   "cell_type": "code",
   "execution_count": null,
   "id": "82133515",
   "metadata": {},
   "outputs": [],
   "source": [
    "def combinations(candidates):\n",
    "    curr = []\n",
    "    pos = 0\n",
    "    util(candidates, pos, curr, sum)\n",
    "        \n",
    "        \n",
    "def util(candidates, pos, curr):\n",
    "    if sum <= 0:\n",
    "        if sum == 0:\n",
    "            print(curr)\n",
    "        return\n",
    "    \n",
    "    curr.append(candidates[pos])\n",
    "    util(candidates, pos, curr, sum - candidates[pos])\n",
    "    curr.pop()\n",
    "    \n",
    "    util(candidates, pos + 1, curr)"
   ]
  },
  {
   "cell_type": "code",
   "execution_count": null,
   "id": "609d97aa",
   "metadata": {},
   "outputs": [],
   "source": [
    "class Solution(object):\n",
    "    def combinationSum(self, candidates, target):\n",
    "        result = []\n",
    "        curr = []\n",
    "        pos = 0\n",
    "        self.util(candidates, pos, curr, target, result)\n",
    "        return result\n",
    "    def util(self, candidates, pos, curr, total, result):\n",
    "        if total <= 0 or pos >= len(candidates):\n",
    "            if total == 0:\n",
    "                result.append(curr[:])\n",
    "            return\n",
    "        \n",
    "        curr.append(candidates[pos])\n",
    "        self.util(candidates, pos, curr, total - candidates[pos], result)\n",
    "        curr.pop()\n",
    "        self.util(candidates, pos + 1, curr, total, result)"
   ]
  },
  {
   "cell_type": "code",
   "execution_count": null,
   "id": "deee80e7",
   "metadata": {},
   "outputs": [],
   "source": [
    "class Solution {\n",
    "    public List<List<Integer>> combinationSum(int[] candidates, int target) {\n",
    "        \n",
    "        List<List<Integer>> list = new ArrayList<List<Integer>>();\n",
    "\n",
    "          backTrack(list, new ArrayList<Integer>(), candidates, target, 0);\n",
    "\n",
    "          return list;\n",
    "    }\n",
    "\n",
    "    public void backTrack(List<List<Integer>> list, ArrayList<Integer> tempList, int[] can, int remain, int start){\n",
    "\n",
    "        if(remain < 0) return;\n",
    "\n",
    "        else if(remain == 0){\n",
    "            list.add(new ArrayList<Integer>(tempList));\n",
    "        }\n",
    "\n",
    "        else{\n",
    "            for(int i=start; i<can.length; i++){\n",
    "\n",
    "                tempList.add(can[i]);\n",
    "\n",
    "                backTrack(list, tempList, can, remain-can[i], i);\n",
    "                tempList.remove(tempList.size()-1);\n",
    "            }\n",
    "        }\n",
    "\n",
    "    }\n",
    "\n",
    "}"
   ]
  },
  {
   "cell_type": "code",
   "execution_count": null,
   "id": "2b0d3c5c",
   "metadata": {},
   "outputs": [],
   "source": []
  },
  {
   "cell_type": "markdown",
   "id": "ca52c9ab",
   "metadata": {},
   "source": [
    "https://leetcode.com/problems/generate-parentheses/"
   ]
  },
  {
   "cell_type": "code",
   "execution_count": null,
   "id": "130e5f43",
   "metadata": {},
   "outputs": [],
   "source": [
    "class Solution:\n",
    "    def generateParenthesis(self, n: int) -> List[str]:\n",
    "        res = []\n",
    "        \n",
    "        def backtrack(s, left, right):\n",
    "            if len(s) == 2*n:\n",
    "                res.append(s)\n",
    "                return\n",
    "            if left < n:\n",
    "                backtrack(s+ '(', left+1, right)\n",
    "            if right < left:\n",
    "                backtrack(s+ ')', left, right+1)\n",
    "                \n",
    "        backtrack('',0 , 0)\n",
    "        return res"
   ]
  },
  {
   "cell_type": "code",
   "execution_count": null,
   "id": "10fc77c6",
   "metadata": {},
   "outputs": [],
   "source": [
    "class Solution {\n",
    "    public List<String> generateParenthesis(int n) {\n",
    "        List<String> res = new ArrayList<String>();\n",
    "        recurse(res, 0, 0, \"\", n);\n",
    "        return res;\n",
    "    }\n",
    "    \n",
    "    public void recurse(List<String> res, int left, int right, String s, int n) {\n",
    "        if (s.length() == n * 2) {\n",
    "            res.add(s);\n",
    "            return;\n",
    "        }\n",
    "        \n",
    "        if (left < n) {\n",
    "            recurse(res, left + 1, right, s + \"(\", n);\n",
    "        }\n",
    "        \n",
    "        if (right < left) {\n",
    "            recurse(res, left, right + 1, s + \")\", n);\n",
    "        }\n",
    "    }\n",
    "}"
   ]
  },
  {
   "cell_type": "code",
   "execution_count": null,
   "id": "5dd46383",
   "metadata": {},
   "outputs": [],
   "source": [
    "class Solution {\n",
    "    public List<String> generateParenthesis(int n) {\n",
    "        List<String> ans = new ArrayList<>();\n",
    "        gen(n, n, ans, new StringBuilder());\n",
    "        return ans;\n",
    "    }\n",
    "\n",
    "    private void gen(int open , int close, List<String> ans, StringBuilder sb){\n",
    "        if(open  0 && close  0){\n",
    "            ans.add(sb.toString());\n",
    "            return;\n",
    "        }\n",
    "        if(open == 0){\n",
    "            sb.append(\")\");\n",
    "            gen(open, close-1, ans, sb);\n",
    "            sb.deleteCharAt(sb.length()-1);\n",
    "            return;\n",
    "        }\n",
    "        if(open == close){\n",
    "            sb.append(\"(\");\n",
    "            gen(open-1, close, ans, sb);\n",
    "            sb.deleteCharAt(sb.length()-1);\n",
    "            return;\n",
    "        }\n",
    "        sb.append(\"(\");\n",
    "        gen(open - 1, close, ans, sb);\n",
    "        sb.deleteCharAt(sb.length()-1);\n",
    "        sb.append(\")\");\n",
    "        gen(open, close - 1, ans, sb);\n",
    "        sb.deleteCharAt(sb.length()-1);\n",
    "        return;\n",
    "    }\n",
    "}"
   ]
  }
 ],
 "metadata": {
  "kernelspec": {
   "display_name": "Python 3 (ipykernel)",
   "language": "python",
   "name": "python3"
  },
  "language_info": {
   "codemirror_mode": {
    "name": "ipython",
    "version": 3
   },
   "file_extension": ".py",
   "mimetype": "text/x-python",
   "name": "python",
   "nbconvert_exporter": "python",
   "pygments_lexer": "ipython3",
   "version": "3.10.9"
  }
 },
 "nbformat": 4,
 "nbformat_minor": 5
}
