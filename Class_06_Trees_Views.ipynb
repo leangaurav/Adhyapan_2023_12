{
 "cells": [
  {
   "cell_type": "markdown",
   "id": "66a7a8cf",
   "metadata": {},
   "source": [
    "**Question**  \n",
    "https://leetcode.com/problems/path-sum-ii/"
   ]
  },
  {
   "cell_type": "markdown",
   "id": "181fb6f3",
   "metadata": {},
   "source": [
    "TC: O(n) n = no. of nodes in the tree  \n",
    "SC: O(h) h = max height of the tree"
   ]
  },
  {
   "cell_type": "code",
   "execution_count": null,
   "id": "31a7beef",
   "metadata": {},
   "outputs": [],
   "source": [
    "class Solution {\n",
    "public:\n",
    "    vector<vector<int>> pathSum(TreeNode* root, int targetSum) {\n",
    "        vector<int> currPath;\n",
    "        vector<vector<int>> results;\n",
    "\n",
    "        pathSumUtil(root, results, currPath, 0, targetSum);\n",
    "        return results;\n",
    "    }\n",
    "\n",
    "    void pathSumUtil(TreeNode* root, vector<vector<int>> &results, vector<int> &currPath, int currSum, int targetSum) {\n",
    "        if (root == NULL) {\n",
    "            return;\n",
    "        }\n",
    "\n",
    "        currSum += root->val;\n",
    "        currPath.push_back(root->val);\n",
    "        if (root->right == NULL && root->left  == NULL) {\n",
    "            if (currSum == targetSum) {\n",
    "                results.push_back(currPath);\n",
    "            }\n",
    "        } else {\n",
    "            pathSumUtil(root->left, results, currPath, currSum, targetSum);\n",
    "            pathSumUtil(root->right, results, currPath, currSum, targetSum);\n",
    "        }\n",
    "        currPath.pop_back();\n",
    "    }\n",
    "};"
   ]
  },
  {
   "cell_type": "code",
   "execution_count": null,
   "id": "d93d0742",
   "metadata": {},
   "outputs": [],
   "source": []
  },
  {
   "cell_type": "markdown",
   "id": "37ebcf19",
   "metadata": {},
   "source": [
    "Right view:  \n",
    "https://leetcode.com/problems/binary-tree-right-side-view/\n",
    "    \n",
    "Solution-1\n",
    "BFS:\n",
    "1. In BFS solution keep additional Node pointer\n",
    "2. Update the pointer each time we pop from queue (update when not null)\n",
    "3. When we get the level change marker i.e. NULL, update the result with the value in pointer.\n",
    "\n",
    "\n",
    "Solution-2\n",
    "DFS:\n",
    "    1. Preorder\n",
    "    2. Inorder\n",
    "    3. PostOrder\n",
    "    \n",
    "rRL"
   ]
  },
  {
   "cell_type": "code",
   "execution_count": null,
   "id": "e0c8c20f",
   "metadata": {},
   "outputs": [],
   "source": [
    "class Solution {\n",
    "    public List<Integer> rightSideView(TreeNode root) {\n",
    "        List<Integer> ans = new ArrayList<Integer>();\n",
    "        find(root,ans,0);\n",
    "        return ans;\n",
    "    }\n",
    "    public void find(TreeNode root, List<Integer> ans, int level){\n",
    "        if(root == null)return;\n",
    "        \n",
    "        if(level == ans.size()) ans.add(root.val);\n",
    "        \n",
    "        find(root.right,ans,level+1);\n",
    "        find(root.left,ans,level+1);\n",
    "    }\n",
    "}"
   ]
  },
  {
   "cell_type": "code",
   "execution_count": null,
   "id": "13bc7ee8",
   "metadata": {},
   "outputs": [],
   "source": [
    "class Solution {\n",
    "    List<Integer> res = new ArrayList<>();\n",
    "    public List<Integer> rightSideView(TreeNode root) {\n",
    "        level(root, 0);\n",
    "        return res;\n",
    "    }\n",
    "    public void level(TreeNode node, int level){\n",
    "        if(node == null)\n",
    "            return;\n",
    "        if(res.size() <= level){\n",
    "            res.add(node.val);\n",
    "        }\n",
    "        level(node.right, level+1);\n",
    "        level(node.left, level+1);\n",
    "    }\n",
    "}"
   ]
  },
  {
   "cell_type": "code",
   "execution_count": null,
   "id": "1397170b",
   "metadata": {},
   "outputs": [],
   "source": [
    "class Solution {\n",
    "    int maxlevel = 1;\n",
    "    public List<Integer> rightSideView(TreeNode root) {\n",
    "        List<Integer> list  = new ArrayList<>();\n",
    "        right(root,2,list);\n",
    "        return list ;\n",
    "    }\n",
    "    void right(TreeNode root,int level,List<Integer> list){\n",
    "        if(root==null){\n",
    "            return ;\n",
    "        }\n",
    "        if(maxlevel<level){\n",
    "            list.add(root.val);\n",
    "            maxlevel=level;\n",
    "        }\n",
    "        right(root.right,level+1,list);\n",
    "        right(root.left,level+1,list);\n",
    "        \n",
    "    }\n",
    "}"
   ]
  },
  {
   "cell_type": "code",
   "execution_count": null,
   "id": "c2805e37",
   "metadata": {},
   "outputs": [],
   "source": []
  },
  {
   "cell_type": "code",
   "execution_count": null,
   "id": "5ba56b7f",
   "metadata": {},
   "outputs": [],
   "source": []
  },
  {
   "cell_type": "markdown",
   "id": "9ee20cfc",
   "metadata": {},
   "source": [
    "**Top View**  \n",
    "https://www.hackerrank.com/challenges/tree-top-view/problem\n"
   ]
  },
  {
   "cell_type": "code",
   "execution_count": null,
   "id": "28bde118",
   "metadata": {},
   "outputs": [],
   "source": [
    "class Node:\n",
    "    def __init__(self, info): \n",
    "        self.info = info  \n",
    "        self.left = None  \n",
    "        self.right = None \n",
    "        self.level = None \n",
    "\n",
    "    def __str__(self):\n",
    "        return str(self.info) \n",
    "\n",
    "class BinarySearchTree:\n",
    "    def __init__(self): \n",
    "        self.root = None\n",
    "\n",
    "    def create(self, val):  \n",
    "        if self.root == None:\n",
    "            self.root = Node(val)\n",
    "        else:\n",
    "            current = self.root\n",
    "         \n",
    "            while True:\n",
    "                if val < current.info:\n",
    "                    if current.left:\n",
    "                        current = current.left\n",
    "                    else:\n",
    "                        current.left = Node(val)\n",
    "                        break\n",
    "                elif val > current.info:\n",
    "                    if current.right:\n",
    "                        current = current.right\n",
    "                    else:\n",
    "                        current.right = Node(val)\n",
    "                        break\n",
    "                else:\n",
    "                    break\n",
    "\n",
    "\"\"\"\n",
    "Node is defined as\n",
    "self.left (the left child of the node)\n",
    "self.right (the right child of the node)\n",
    "self.info (the value of the node)\n",
    "\"\"\"\n",
    "def topView(root):\n",
    "    #Write your code here\n",
    "    \n",
    "    mp = {}\n",
    "    \n",
    "    topViewUtil(root, mp, 0, 0)\n",
    "    \n",
    "    res = []\n",
    "    for i in range(min(mp.keys()), max(mp.keys) + 1):\n",
    "        res.append(mp[i][0])\n",
    "        \n",
    "    return res\n",
    "    \n",
    "    \n",
    "def topViewUtil(root, mp, level, pos):\n",
    "    \n",
    "    if root is None:\n",
    "        return\n",
    "        \n",
    "    if pos not in mp:\n",
    "        mp[pos] = (root.info, level)\n",
    "    else:\n",
    "        if mp[pos][1] > level:\n",
    "            mp[pos] = (root.info, level)\n",
    "    \n",
    "    topViewUtil(root.left, mp, level + 1, pos-1)\n",
    "    topViewUtil(root.right, mp, level + 1, pos+1)\n",
    "    \n",
    "\n",
    "tree = BinarySearchTree()\n",
    "t = int(input())\n",
    "\n",
    "arr = list(map(int, input().split()))\n",
    "\n",
    "for i in range(t):\n",
    "    tree.create(arr[i])\n",
    "\n",
    "topView(tree.root)"
   ]
  },
  {
   "cell_type": "code",
   "execution_count": null,
   "id": "c7b3253a",
   "metadata": {},
   "outputs": [],
   "source": []
  },
  {
   "cell_type": "code",
   "execution_count": null,
   "id": "d27cf5a1",
   "metadata": {},
   "outputs": [],
   "source": []
  },
  {
   "cell_type": "markdown",
   "id": "a9ef10cc",
   "metadata": {},
   "source": [
    "**Bottom view**  \n",
    "https://practice.geeksforgeeks.org/problems/bottom-view-of-binary-tree/1"
   ]
  },
  {
   "cell_type": "code",
   "execution_count": null,
   "id": "35388dd7",
   "metadata": {},
   "outputs": [],
   "source": []
  },
  {
   "cell_type": "markdown",
   "id": "dab4c6b7",
   "metadata": {},
   "source": [
    "**Vertical Traversal**  \n",
    "https://leetcode.com/problems/vertical-order-traversal-of-a-binary-tree/"
   ]
  },
  {
   "cell_type": "code",
   "execution_count": null,
   "id": "54f43a59",
   "metadata": {},
   "outputs": [],
   "source": []
  },
  {
   "cell_type": "code",
   "execution_count": null,
   "id": "525a3229",
   "metadata": {},
   "outputs": [],
   "source": []
  },
  {
   "cell_type": "markdown",
   "id": "9c19ee7a",
   "metadata": {},
   "source": [
    "**DIY**  \n",
    "LCA: Lowest common ancestor  \n",
    "https://leetcode.com/problems/lowest-common-ancestor-of-a-binary-tree/"
   ]
  },
  {
   "cell_type": "code",
   "execution_count": null,
   "id": "1530cae6",
   "metadata": {},
   "outputs": [],
   "source": []
  }
 ],
 "metadata": {
  "kernelspec": {
   "display_name": "Python 3 (ipykernel)",
   "language": "python",
   "name": "python3"
  },
  "language_info": {
   "codemirror_mode": {
    "name": "ipython",
    "version": 3
   },
   "file_extension": ".py",
   "mimetype": "text/x-python",
   "name": "python",
   "nbconvert_exporter": "python",
   "pygments_lexer": "ipython3",
   "version": "3.10.9"
  }
 },
 "nbformat": 4,
 "nbformat_minor": 5
}
