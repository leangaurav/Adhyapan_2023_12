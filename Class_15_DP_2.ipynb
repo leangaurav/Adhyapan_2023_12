{
 "cells": [
  {
   "cell_type": "markdown",
   "id": "42e3a730",
   "metadata": {},
   "source": [
    "```\n",
    "Survey !!!!\n",
    "Java \n",
    "Python ()\n",
    "C++\n",
    "\n",
    "Mock Interview ?\n",
    "1. Someone ()\n",
    "2. Feedback (In general good and bad)\n",
    "3. Recorded (LMS)\n",
    "\n",
    "Ngrok\n",
    "C:\\Windows\\System32\n",
    "```"
   ]
  },
  {
   "cell_type": "markdown",
   "id": "2d916fd9",
   "metadata": {},
   "source": [
    "https://leetcode.com/problems/min-cost-climbing-stairs"
   ]
  },
  {
   "cell_type": "markdown",
   "id": "f882885a",
   "metadata": {},
   "source": [
    "### Brute force\n",
    "TC: O(2^n)  \n",
    "SC: O(n)  \n",
    "```C++\n",
    "class Solution {\n",
    "public:\n",
    "    int minCostClimbingStairs(vector<int>& cost) {\n",
    "        return min(minCostClimbingStairsUtil(cost,0), minCostClimbingStairsUtil(cost,1));\n",
    "    }\n",
    "\n",
    "    int minCostClimbingStairsUtil(vector<int>& cost, int idx) {\n",
    "        if (idx >= cost.size()) {\n",
    "            return 0;\n",
    "        }\n",
    "        \n",
    "        int step1 = minCostClimbingStairsUtil(cost, idx + 1);\n",
    "        int step2 = minCostClimbingStairsUtil(cost, idx + 2);\n",
    "         \n",
    "        return cost[idx] + min(step1, step2);\n",
    "    }\n",
    "\n",
    "};\n",
    "```"
   ]
  },
  {
   "cell_type": "markdown",
   "id": "49e93d38",
   "metadata": {},
   "source": [
    "### DP: Memoization\n",
    "TC: O(n)  \n",
    "SC: O(n)  \n",
    "```C++    \n",
    "class Solution {\n",
    "public:\n",
    "    int minCostClimbingStairs(vector<int>& cost) {\n",
    "        std::unordered_map<int, int> cache;\n",
    "        return min(minCostClimbingStairsUtil(cache, cost,0), minCostClimbingStairsUtil(cache, cost,1));\n",
    "    }\n",
    "\n",
    "    int minCostClimbingStairsUtil(std::unordered_map<int, int>& cache, vector<int>& cost, int idx) {\n",
    "        if (idx >= cost.size()) {\n",
    "            return 0;\n",
    "        }\n",
    "        if (cache.count(idx)  != 0) {\n",
    "            return cache[idx];\n",
    "        }\n",
    "        \n",
    "        int step1 = minCostClimbingStairsUtil(cache, cost, idx + 1);\n",
    "        int step2 = minCostClimbingStairsUtil(cache, cost, idx + 2);\n",
    "         \n",
    "        int ans = cost[idx] + min(step1, step2);\n",
    "        cache[idx] = ans;\n",
    "        return ans;\n",
    "    }\n",
    "\n",
    "};\n",
    "```"
   ]
  },
  {
   "cell_type": "markdown",
   "id": "e1bcf8de",
   "metadata": {},
   "source": [
    "### DP: Tabulation\n",
    "TC: O(n)  \n",
    "SC: O(n)  \n",
    "```Java\n",
    "class Solution {\n",
    "    public int minCostClimbingStairs(int[] cost) {\n",
    "      int n = cost.length;\n",
    "      int[] dp = new int[n + 1];\n",
    "\n",
    "      //base case\n",
    "      dp[0] = cost[0];\n",
    "      dp[1] = cost[1];\n",
    "\n",
    "      for(int i = 2; i < n; i++){\n",
    "          dp[i] = cost[i] + Math.min(dp[i - 1], dp[i - 2]);\n",
    "          //stores the cost of each step\n",
    "      }\n",
    "\n",
    "      if(n == 1){\n",
    "          return cost[0];\n",
    "      }else{\n",
    "          return Math.min(dp[n-2], dp[n-1]);\n",
    "      }\n",
    "    }\n",
    "}\n",
    "```"
   ]
  },
  {
   "cell_type": "code",
   "execution_count": null,
   "id": "497d3af6",
   "metadata": {},
   "outputs": [],
   "source": []
  },
  {
   "cell_type": "code",
   "execution_count": null,
   "id": "18df72d3",
   "metadata": {},
   "outputs": [],
   "source": []
  },
  {
   "cell_type": "markdown",
   "id": "76bc89c9",
   "metadata": {},
   "source": [
    "### Recursion Problems\n",
    "- Backtracking\n",
    "- DP"
   ]
  },
  {
   "cell_type": "code",
   "execution_count": null,
   "id": "1541cb9a",
   "metadata": {},
   "outputs": [],
   "source": []
  },
  {
   "cell_type": "markdown",
   "id": "602ffc1b",
   "metadata": {},
   "source": [
    "####  Rethinking Climibing Stairs: Identify whether we use backtracking or DP \n",
    "``` Python\n",
    "For \n",
    "  N=3 [1 1 1] [1 2] [2 1]\n",
    "  N=4 [1 1 1 1] [1 1 2] [1 2 1] [2 1 1] [2 2]\n",
    "```\n",
    "\n",
    "**Do I need the actual permutations ?**  \n",
    "```\n",
    "Yes: Backtracking \n",
    "No: \n",
    "```\n",
    " ->  **Do I need to count possible solutions ?**   \n",
    "```\n",
    "Yes:  \n",
    "    Backtracking: BruteForce\n",
    "    DP: Optimal\n",
    "```\n"
   ]
  },
  {
   "cell_type": "code",
   "execution_count": null,
   "id": "5a41fea2",
   "metadata": {},
   "outputs": [],
   "source": []
  },
  {
   "cell_type": "markdown",
   "id": "6035ccbb",
   "metadata": {},
   "source": [
    "```\n",
    "DP-problem\n",
    "- Look for keywords: min/max, count, unique, ways etc\n",
    "- Think of a recurrence relation (draw on paper / board)\n",
    "- Figure out base conditions\n",
    "- Figure out number of state variables (the variables on which answer depends: 1D, 2D, .....)\n",
    "- Write a top-down / bottom-up code\n",
    "\n",
    "DP problem top-down structure\n",
    "- populate a (cache)/ (dp array/matrix or whatever)\n",
    "- call utility function with cache\n",
    "\n",
    "- Write a recursive utility function\n",
    "    // base conditions\n",
    "    // cache lookup\n",
    "    // recursion\n",
    "    // caching\n",
    "   \n",
    "\n",
    "DP problem bottom-up structure\n",
    "- populate the cache with solution for the trivial cases\n",
    "- run loops which start from non-trivial cases\n",
    "      - use recurrence relation to determine solution at current structure\n",
    "- return last answer\n",
    "```"
   ]
  },
  {
   "cell_type": "code",
   "execution_count": null,
   "id": "c091c7af",
   "metadata": {},
   "outputs": [],
   "source": []
  },
  {
   "cell_type": "code",
   "execution_count": null,
   "id": "d41b4658",
   "metadata": {},
   "outputs": [],
   "source": []
  },
  {
   "cell_type": "markdown",
   "id": "8f68ff09",
   "metadata": {},
   "source": [
    "### 2D  \n",
    "https://leetcode.com/problems/unique-paths/description/"
   ]
  },
  {
   "cell_type": "code",
   "execution_count": null,
   "id": "2fe99f9e",
   "metadata": {},
   "outputs": [],
   "source": []
  },
  {
   "cell_type": "code",
   "execution_count": null,
   "id": "ad6449b2",
   "metadata": {},
   "outputs": [],
   "source": []
  },
  {
   "cell_type": "code",
   "execution_count": null,
   "id": "ce18d19d",
   "metadata": {},
   "outputs": [],
   "source": []
  }
 ],
 "metadata": {
  "kernelspec": {
   "display_name": "Python 3 (ipykernel)",
   "language": "python",
   "name": "python3"
  },
  "language_info": {
   "codemirror_mode": {
    "name": "ipython",
    "version": 3
   },
   "file_extension": ".py",
   "mimetype": "text/x-python",
   "name": "python",
   "nbconvert_exporter": "python",
   "pygments_lexer": "ipython3",
   "version": "3.10.9"
  }
 },
 "nbformat": 4,
 "nbformat_minor": 5
}
