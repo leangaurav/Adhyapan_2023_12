{
 "cells": [
  {
   "cell_type": "code",
   "execution_count": null,
   "id": "4c6740ae",
   "metadata": {},
   "outputs": [],
   "source": [
    "https://leetcode.com/problems/missing-number/\n",
    "https://leetcode.com/problems/single-number/\n",
    "https://leetcode.com/problems/decode-xored-array/ \n",
    "https://leetcode.com/problems/prison-cells-after-n-days/\n"
   ]
  },
  {
   "cell_type": "code",
   "execution_count": null,
   "id": "80c77c44",
   "metadata": {},
   "outputs": [],
   "source": []
  },
  {
   "cell_type": "markdown",
   "id": "67340e8f",
   "metadata": {},
   "source": [
    "**Question**  \n",
    "https://leetcode.com/problems/merge-two-sorted-lists/"
   ]
  },
  {
   "cell_type": "code",
   "execution_count": null,
   "id": "ef1338e7",
   "metadata": {},
   "outputs": [],
   "source": [
    "/**\n",
    " * Definition for singly-linked list.\n",
    " * struct ListNode {\n",
    " *     int val;\n",
    " *     ListNode *next;\n",
    " *     ListNode() : val(0), next(nullptr) {}\n",
    " *     ListNode(int x) : val(x), next(nullptr) {}\n",
    " *     ListNode(int x, ListNode *next) : val(x), next(next) {}\n",
    " * };\n",
    " */\n",
    "class Solution {\n",
    "public:\n",
    "    ListNode* mergeTwoLists(ListNode* list1, ListNode* list2) {\n",
    "        \n",
    "        ListNode* res;\n",
    "        ListNode* curr;\n",
    "\n",
    "        if (list1 == NULL) {\n",
    "            return list2;\n",
    "        }\n",
    "        \n",
    "        if (list2 == NULL) {\n",
    "            return list1;\n",
    "        }\n",
    "\n",
    "        // Both lists have atleast 1 value\n",
    "        if (list1->val < list2->val) {\n",
    "            res = list1;\n",
    "            curr = list1;\n",
    "            list1=list1->next;\n",
    "        } else {\n",
    "            res = list2;\n",
    "            curr = list2;\n",
    "            list2=list2->next;\n",
    "        }\n",
    "\n",
    "        while(list1 != NULL && list2 != NULL) {\n",
    "            if (list1->val < list2->val) {\n",
    "                curr->next = list1;\n",
    "                curr = list1;\n",
    "                list1=list1->next;\n",
    "            } else {\n",
    "                curr->next = list2;\n",
    "                curr = list2;\n",
    "                list2=list2->next;\n",
    "            }\n",
    "        }\n",
    "\n",
    "        if (list1 != NULL) {\n",
    "            curr ->next =  list1;\n",
    "        }\n",
    "        if (list2 != NULL) {\n",
    "            curr ->next =  list2;\n",
    "        }\n",
    "\n",
    "        return res;\n",
    "    }\n",
    "};"
   ]
  },
  {
   "cell_type": "code",
   "execution_count": null,
   "id": "c24b0006",
   "metadata": {},
   "outputs": [],
   "source": [
    "/**\n",
    " * Definition for singly-linked list.\n",
    " * struct ListNode {\n",
    " *     int val;\n",
    " *     ListNode *next;\n",
    " *     ListNode() : val(0), next(nullptr) {}\n",
    " *     ListNode(int x) : val(x), next(nullptr) {}\n",
    " *     ListNode(int x, ListNode *next) : val(x), next(next) {}\n",
    " * };\n",
    " */\n",
    "class Solution {\n",
    "public:\n",
    "    ListNode* mergeTwoLists(ListNode* list1, ListNode* list2) {\n",
    "        \n",
    "        if (list1 == NULL) {\n",
    "            return list2;\n",
    "        }\n",
    "        \n",
    "        if (list2 == NULL) {\n",
    "            return list1;\n",
    "        }\n",
    "\n",
    "        ListNode*curr = NULL;\n",
    "        // Both lists have atleast 1 value\n",
    "        if (list1->val < list2->val) {\n",
    "            curr = list1;\n",
    "            list1=list1->next;\n",
    "        } else {\n",
    "            curr = list2;\n",
    "            list2=list2->next;\n",
    "        }\n",
    "\n",
    "        curr->next = mergeTwoLists(list1, list2);\n",
    "        return curr;\n",
    "    }\n",
    "};"
   ]
  },
  {
   "cell_type": "code",
   "execution_count": null,
   "id": "140f305b",
   "metadata": {},
   "outputs": [],
   "source": []
  },
  {
   "cell_type": "markdown",
   "id": "b1a5396c",
   "metadata": {},
   "source": [
    "**Question**  \n",
    "https://leetcode.com/problems/missing-number/"
   ]
  },
  {
   "cell_type": "code",
   "execution_count": null,
   "id": "aa98c7d5",
   "metadata": {},
   "outputs": [],
   "source": [
    "class Solution {\n",
    "    public int missingNumber(int[] nums) {\n",
    "        int n = nums.length;\n",
    "        \n",
    "        int sum = Arrays.stream(nums).sum();\n",
    "        \n",
    "        return ((n * (n+1))/2) - sum;\n",
    "    }\n",
    "}"
   ]
  },
  {
   "cell_type": "code",
   "execution_count": null,
   "id": "497fa14e",
   "metadata": {},
   "outputs": [],
   "source": [
    "class Solution {\n",
    "    public int missingNumber(int[] nums) {\n",
    "\n",
    "        int n= nums.length;\n",
    "        int expectedTotal = (n*(n+1))/2;\n",
    "\n",
    "        int total=0;\n",
    "        for(int num:nums){\n",
    "            total += num;\n",
    "        }\n",
    "\n",
    "        return expectedTotal-total;\n",
    "        \n",
    "    }\n",
    "}"
   ]
  },
  {
   "cell_type": "code",
   "execution_count": null,
   "id": "71ed47fd",
   "metadata": {},
   "outputs": [],
   "source": [
    "class Solution {\n",
    "    public int missingNumber(int[] nums) {\n",
    "        int n=nums.length;\n",
    "        System.out.println(n);\n",
    "        int total_sum = (n*(n+1))/2;\n",
    "        System.out.println(total_sum);\n",
    "        int array_sum = 0;\n",
    "        for(int i=0; i<n;i++){\n",
    "            array_sum+=nums[i];\n",
    "        }\n",
    "        int missing = total_sum-array_sum;\n",
    "        return missing;\n",
    "    }\n",
    "}"
   ]
  },
  {
   "cell_type": "code",
   "execution_count": null,
   "id": "187e408e",
   "metadata": {},
   "outputs": [],
   "source": [
    "class Solution:\n",
    "    def missingNumber(self, nums: List[int]) -> int:\n",
    "        n = sum(nums)\n",
    "        m = sum(range(0,len(nums)+1))\n",
    "        return m-n"
   ]
  },
  {
   "cell_type": "code",
   "execution_count": null,
   "id": "3e5ed089",
   "metadata": {},
   "outputs": [],
   "source": [
    "public class Solution {\n",
    "    public int missingNumber(int[] nums) {\n",
    "       \n",
    "        int n = nums.length;\n",
    "        int sumOfAll = n * (n + 1) / 2;\n",
    "       \n",
    "        for (int i : nums) {\n",
    "            sumOfAll -= i;\n",
    "        }\n",
    "       \n",
    "        return sumOfAll;\n",
    "    }\n",
    "}"
   ]
  },
  {
   "cell_type": "code",
   "execution_count": null,
   "id": "0dea5e0a",
   "metadata": {},
   "outputs": [],
   "source": [
    "class Solution {\n",
    "    public int missingNumber(int[] nums) {\n",
    "\n",
    "        int b= nums.length;\n",
    "        int expectedTotal = (b*(b+1))/2;\n",
    "\n",
    "        int total=0;\n",
    "        for(int num:nums){\n",
    "            total += num;\n",
    "        }\n",
    "\n",
    "        return expectedTotal-total;\n",
    "        \n",
    "    }\n",
    "}"
   ]
  },
  {
   "cell_type": "code",
   "execution_count": null,
   "id": "4568eae2",
   "metadata": {},
   "outputs": [],
   "source": [
    "class Solution {\n",
    " public int missingNumber(int[] nums) {\n",
    " int count[] = new int[nums.length+1]; \n",
    " for(int i=0;i<nums.length;i++){\n",
    " count[nums[i]]++;\n",
    " }\n",
    " for(int i=0;i<=nums.length;i++){\n",
    " if(count[i]==0) return i;\n",
    " }\n",
    " return -1;\n",
    " }\n",
    "}"
   ]
  },
  {
   "cell_type": "code",
   "execution_count": null,
   "id": "784f4a1f",
   "metadata": {},
   "outputs": [],
   "source": [
    "class Solution {\n",
    "    public int missingNumber(int[] nums) {\n",
    "\n",
    "        int n= nums.length;\n",
    "        int expectedTotal = (n*(n+1))/2;\n",
    "\n",
    "        int total=0;\n",
    "        for(int num:nums){\n",
    "            total += num;\n",
    "        }\n",
    "\n",
    "        return expectedTotal-total;\n",
    "        \n",
    "    }\n",
    "}"
   ]
  },
  {
   "cell_type": "code",
   "execution_count": null,
   "id": "f833f40e",
   "metadata": {},
   "outputs": [],
   "source": []
  },
  {
   "cell_type": "markdown",
   "id": "945cafbb",
   "metadata": {},
   "source": [
    "**Question**  \n",
    "https://leetcode.com/problems/single-number/"
   ]
  },
  {
   "cell_type": "code",
   "execution_count": null,
   "id": "04bf7af0",
   "metadata": {},
   "outputs": [],
   "source": [
    "class Solution:\n",
    "    def singleNumber(self, nums: List[int]) -> int:\n",
    "        nums.sort() # O(n log n)\n",
    "        for i in range(0, len(nums) - 1, 2):\n",
    "            if nums[i] != nums[i+1]:\n",
    "                return nums[i]\n",
    "\n",
    "        return nums[-1]"
   ]
  },
  {
   "cell_type": "code",
   "execution_count": null,
   "id": "47ac9c21",
   "metadata": {},
   "outputs": [],
   "source": [
    "class Solution {\n",
    "public:\n",
    "    int singleNumber(vector<int>& nums) {\n",
    "        set<int> s;\n",
    "\n",
    "        for (auto num: nums) {\n",
    "            if (s.count(num) == 0) {\n",
    "                s.insert(num);\n",
    "            } else {\n",
    "                s.erase(num);\n",
    "            }\n",
    "        }\n",
    "\n",
    "        return *s.begin();\n",
    "    }\n",
    "};"
   ]
  },
  {
   "cell_type": "code",
   "execution_count": null,
   "id": "5e72c7df",
   "metadata": {},
   "outputs": [],
   "source": [
    "class Solution {\n",
    "    public int singleNumber(int[] nums) {\n",
    "        \n",
    "        int xor = 0;\n",
    "\n",
    "        for( int num:nums){\n",
    "            xor = xor^num;\n",
    "        }\n",
    "\n",
    "        return xor;\n",
    "    }\n",
    "}"
   ]
  },
  {
   "cell_type": "code",
   "execution_count": null,
   "id": "685a9115",
   "metadata": {},
   "outputs": [],
   "source": [
    "class Solution:\n",
    "    def singleNumber(self, nums: List[int]) -> int:\n",
    "        xor = 0\n",
    "        for n in nums:\n",
    "            xor = xor ^ n\n",
    "        return xor"
   ]
  },
  {
   "cell_type": "code",
   "execution_count": null,
   "id": "a2b798cc",
   "metadata": {},
   "outputs": [],
   "source": [
    "class Solution {\n",
    "    public int singleNumber(int[] nums) {\n",
    "        int single=0;\n",
    "        for(int i=0; i<nums.length;i++){\n",
    "            single=single^nums[i];\n",
    "        }\n",
    "        return single;\n",
    "    }\n",
    "}"
   ]
  },
  {
   "cell_type": "code",
   "execution_count": null,
   "id": "c85f260b",
   "metadata": {},
   "outputs": [],
   "source": []
  },
  {
   "cell_type": "markdown",
   "id": "91a107e3",
   "metadata": {},
   "source": [
    "**Question**  \n",
    "https://leetcode.com/problems/decode-xored-array/ "
   ]
  },
  {
   "cell_type": "code",
   "execution_count": null,
   "id": "50d056aa",
   "metadata": {},
   "outputs": [],
   "source": [
    "class Solution {\n",
    "    public int[] decode(int[] encoded, int first) {\n",
    "        int[] arr = new int[encoded.length+1];\n",
    "        arr[0] = first;\n",
    "        for (int i = 1; i<encoded.length+1;i++){\n",
    "            arr[i] = arr[i-1] ^ encoded[i-1];\n",
    "        }\n",
    "        return arr;\n",
    "    }\n",
    "}"
   ]
  },
  {
   "cell_type": "code",
   "execution_count": null,
   "id": "83a749a8",
   "metadata": {},
   "outputs": [],
   "source": [
    "class Solution:\n",
    "    def decode(self, encoded: List[int], first: int) -> List[int]:\n",
    "        res = [first]\n",
    "        for i in encoded:\n",
    "            res.append(res[-1]^i)\n",
    "        return res"
   ]
  },
  {
   "cell_type": "code",
   "execution_count": null,
   "id": "5071396e",
   "metadata": {},
   "outputs": [],
   "source": []
  },
  {
   "cell_type": "markdown",
   "id": "1176f382",
   "metadata": {},
   "source": [
    "**Question**  \n",
    "https://leetcode.com/problems/prison-cells-after-n-days/"
   ]
  }
 ],
 "metadata": {
  "kernelspec": {
   "display_name": "Python 3 (ipykernel)",
   "language": "python",
   "name": "python3"
  },
  "language_info": {
   "codemirror_mode": {
    "name": "ipython",
    "version": 3
   },
   "file_extension": ".py",
   "mimetype": "text/x-python",
   "name": "python",
   "nbconvert_exporter": "python",
   "pygments_lexer": "ipython3",
   "version": "3.10.9"
  }
 },
 "nbformat": 4,
 "nbformat_minor": 5
}
