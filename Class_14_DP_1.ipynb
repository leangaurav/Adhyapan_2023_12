{
 "cells": [
  {
   "cell_type": "markdown",
   "id": "0986de64",
   "metadata": {},
   "source": [
    "# Dynamic Programming-1"
   ]
  },
  {
   "cell_type": "code",
   "execution_count": null,
   "id": "d9846965",
   "metadata": {},
   "outputs": [],
   "source": [
    "def fun(n):\n",
    "    print(n)\n",
    "    fun(n-1)\n",
    "    \n",
    "fun(10)\n",
    "# Infinite\n",
    "# "
   ]
  },
  {
   "cell_type": "code",
   "execution_count": 2,
   "id": "8c3d8e79",
   "metadata": {},
   "outputs": [
    {
     "name": "stdout",
     "output_type": "stream",
     "text": [
      "10\n",
      "9\n",
      "8\n",
      "7\n",
      "6\n",
      "5\n",
      "4\n",
      "3\n",
      "2\n",
      "1\n"
     ]
    }
   ],
   "source": [
    "def fun(n):\n",
    "    if n == 0:\n",
    "        return\n",
    "    print(n)\n",
    "    fun(n-1)\n",
    "    \n",
    "fun(10)"
   ]
  },
  {
   "cell_type": "code",
   "execution_count": null,
   "id": "590227fc",
   "metadata": {},
   "outputs": [],
   "source": []
  },
  {
   "cell_type": "code",
   "execution_count": null,
   "id": "06f587fd",
   "metadata": {},
   "outputs": [],
   "source": [
    "# Fibonacci series\n",
    "# 0 1 1 2 3\n",
    "# WAF fibb(n) -> nth fibonacci number"
   ]
  },
  {
   "cell_type": "code",
   "execution_count": null,
   "id": "4b9d8e33",
   "metadata": {},
   "outputs": [],
   "source": [
    "int fib(int n) {\n",
    "    if (n <= 1)\n",
    "        return n;\n",
    "    return fib(n - 1) + fib(n - 2);\n",
    "}"
   ]
  },
  {
   "cell_type": "code",
   "execution_count": null,
   "id": "10716887",
   "metadata": {},
   "outputs": [],
   "source": [
    "def fibonacciSeries(i):\n",
    "    if i <= 1:\n",
    "        return i\n",
    "    else:\n",
    "        return (fibonacciSeries(i - 1) + fibonacciSeries(i - 2))\n",
    "    \n",
    "num=10\n",
    "for i in range(num):\n",
    "    print(fibonacciSeries(i), end=\" \")"
   ]
  },
  {
   "cell_type": "code",
   "execution_count": null,
   "id": "02867664",
   "metadata": {},
   "outputs": [],
   "source": []
  },
  {
   "cell_type": "markdown",
   "id": "8295f558",
   "metadata": {},
   "source": [
    "### Fibonacci simple recursive"
   ]
  },
  {
   "cell_type": "code",
   "execution_count": 8,
   "id": "1ba868cc",
   "metadata": {},
   "outputs": [
    {
     "data": {
      "text/plain": [
       "2"
      ]
     },
     "execution_count": 8,
     "metadata": {},
     "output_type": "execute_result"
    }
   ],
   "source": [
    "# TC: O(2^n)\n",
    "# SC: O(n) : Recursion Stack\n",
    "def fib(n):\n",
    "    if n == 0 or n == 1 or n == 2:\n",
    "        return n-1\n",
    "    else:\n",
    "        return fib(n-1) + fib(n-2)\n",
    "\n",
    "fib(4)"
   ]
  },
  {
   "cell_type": "code",
   "execution_count": 10,
   "id": "6581ecc7",
   "metadata": {},
   "outputs": [
    {
     "data": {
      "text/plain": [
       "108788617463475645289761992289049744844995705477812699099751202749393926359816304226"
      ]
     },
     "execution_count": 10,
     "metadata": {},
     "output_type": "execute_result"
    }
   ],
   "source": [
    "# TC: O(n)\n",
    "# SC: O(1)\n",
    "def fib(n):\n",
    "    a = 0\n",
    "    b = 1\n",
    "    for i in range(n-1):\n",
    "        c = a + b\n",
    "        a = b\n",
    "        b = c\n",
    "    return a\n",
    "  \n",
    "fib(400)"
   ]
  },
  {
   "cell_type": "code",
   "execution_count": null,
   "id": "8f0bef99",
   "metadata": {},
   "outputs": [],
   "source": []
  },
  {
   "cell_type": "code",
   "execution_count": null,
   "id": "a6b5a8fd",
   "metadata": {},
   "outputs": [],
   "source": [
    "# O(2^n)\n",
    "def fib(n):\n",
    "    if n == 0 or n == 1 or n == 2:\n",
    "        return n-1\n",
    "    else:\n",
    "        return fib(n-1) + fib(n-2)\n",
    "\n",
    "fib(4)"
   ]
  },
  {
   "cell_type": "code",
   "execution_count": null,
   "id": "6d391a66",
   "metadata": {},
   "outputs": [],
   "source": []
  },
  {
   "cell_type": "markdown",
   "id": "893a6dad",
   "metadata": {},
   "source": [
    "### Fibonacci DP: Memoization"
   ]
  },
  {
   "cell_type": "code",
   "execution_count": 22,
   "id": "8b7157b0",
   "metadata": {},
   "outputs": [
    {
     "name": "stdout",
     "output_type": "stream",
     "text": [
      "108788617463475645289761992289049744844995705477812699099751202749393926359816304226\n"
     ]
    }
   ],
   "source": [
    "# TC: O(n)\n",
    "# SC: O(n)\n",
    "# Top->Down Approach\n",
    "\n",
    "mem = {}\n",
    "# hash map : \n",
    "# key-value \n",
    "# int:int n:fib(n)\n",
    "\n",
    "def fib(n):\n",
    "    if n == 1 or n == 2:\n",
    "        return n-1\n",
    "    \n",
    "    # memoization\n",
    "    if n in mem: # O(1)\n",
    "        return mem[n] # O(1)\n",
    "    \n",
    "    ans = fib(n-1) + fib(n-2)\n",
    "    mem[n] = ans\n",
    "    return ans\n",
    "\n",
    "print(fib(400))"
   ]
  },
  {
   "cell_type": "code",
   "execution_count": 21,
   "id": "f7370a8f",
   "metadata": {},
   "outputs": [
    {
     "name": "stdout",
     "output_type": "stream",
     "text": [
      "108788617463475645289761992289049744844995705477812699099751202749393926359816304226\n"
     ]
    }
   ],
   "source": [
    "# TC: O(n)\n",
    "# SC: O(n)\n",
    "# Top->Down Approach\n",
    "\n",
    "# hash map : \n",
    "# key-value \n",
    "# int:int n:fib(n)\n",
    "mem = {1:0, 2:1}\n",
    "    \n",
    "def fib(n):\n",
    "    # memoization\n",
    "    if n in mem: # O(1)\n",
    "        return mem[n] # O(1)\n",
    "    \n",
    "    ans = fib(n-1) + fib(n-2)\n",
    "    mem[n] = ans\n",
    "    return ans\n",
    "\n",
    "print(fib(400))"
   ]
  },
  {
   "cell_type": "code",
   "execution_count": null,
   "id": "148d7746",
   "metadata": {},
   "outputs": [],
   "source": []
  },
  {
   "cell_type": "markdown",
   "id": "2b10b95e",
   "metadata": {},
   "source": [
    "### Fibonacci DP: Tabulation"
   ]
  },
  {
   "cell_type": "code",
   "execution_count": 16,
   "id": "a086bceb",
   "metadata": {},
   "outputs": [
    {
     "name": "stdout",
     "output_type": "stream",
     "text": [
      "[0, 0, 0, 0, 0, 0, 0, 0, 0, 0, 0, 0, 0, 0, 0, 0, 0, 0, 0, 0, 0, 0, 0, 0, 0, 0, 0, 0, 0, 0, 0, 0, 0, 0, 0, 0, 0, 0, 0, 0, 0, 0, 0, 0, 0, 0, 0, 0, 0, 0, 0, 0, 0, 0, 0, 0, 0, 0, 0, 0, 0, 0, 0, 0, 0, 0, 0, 0, 0, 0, 0, 0, 0, 0, 0, 0, 0, 0, 0, 0, 0, 0, 0, 0, 0, 0, 0, 0, 0, 0, 0, 0, 0, 0, 0, 0, 0, 0, 0, 0]\n"
     ]
    }
   ],
   "source": [
    "table = [0 for i in range(100)] # 100 elements\n",
    "print(table)"
   ]
  },
  {
   "cell_type": "code",
   "execution_count": 19,
   "id": "1b399e8e",
   "metadata": {},
   "outputs": [
    {
     "name": "stdout",
     "output_type": "stream",
     "text": [
      "13\n"
     ]
    }
   ],
   "source": [
    "# TC: O(n)\n",
    "# SC: O(n)\n",
    "table = [0 for i in range(100)] # 100 elements\n",
    "# table = [0]*100\n",
    "# table = list(range(100))\n",
    "\n",
    "# int table[100];\n",
    "def fib(n):\n",
    "    table[0] = 0\n",
    "    table[1] = 1\n",
    "    \n",
    "    for i in range(2,n): # 2...(n-1)\n",
    "        table[i] = table[i-1] + table[i-2]\n",
    "    \n",
    "    return table[n-1]\n",
    "    \n",
    "# table 0 1 1 2 3 5 8 13\n",
    "#       0 1 2 3 4 5 6 7 8 9\n",
    "# i 2 3 4 5 6 7\n",
    "print(fib(8))\n"
   ]
  },
  {
   "cell_type": "code",
   "execution_count": null,
   "id": "36398449",
   "metadata": {},
   "outputs": [],
   "source": [
    "# TC: O(n)\n",
    "# SC: O(1)\n",
    "def fib(n):\n",
    "    a = 0\n",
    "    b = 1\n",
    "    for i in range(n-1):\n",
    "        c = a + b\n",
    "        a = b\n",
    "        b = c\n",
    "    return a\n",
    "  \n",
    "fib(400)"
   ]
  },
  {
   "cell_type": "markdown",
   "id": "9f4e455d",
   "metadata": {},
   "source": [
    "**Question: 1D**  \n",
    "https://leetcode.com/problems/climbing-stairs/"
   ]
  },
  {
   "cell_type": "code",
   "execution_count": null,
   "id": "232562bd",
   "metadata": {},
   "outputs": [],
   "source": [
    "\n",
    "class Solution {\n",
    "\n",
    "    int[] temp = new int[45];\n",
    "    public int climbStairs(int n) {\n",
    "        temp[0] = 1;\n",
    "        temp[1] = 2;\n",
    "        \n",
    "        for(int i=2; i<n; i++){\n",
    "            temp[i] = temp[i-1] + temp[i-2];\n",
    "        }\n",
    "        return temp[n-1];\n",
    "    }\n",
    "}"
   ]
  },
  {
   "cell_type": "code",
   "execution_count": null,
   "id": "a9656a0b",
   "metadata": {},
   "outputs": [],
   "source": [
    "class Solution:\n",
    "    def climbStairs(self, n: int) -> int:\n",
    "        if n<=2:\n",
    "            return n\n",
    "        table=[0]*(n+1)\n",
    "        table[0]=1\n",
    "        table[1]=2\n",
    "        \n",
    "        for i in range(2,n+1):\n",
    "            table[i] = table[i-1]+table[i-2]\n",
    "        return table[n-1]"
   ]
  },
  {
   "cell_type": "code",
   "execution_count": null,
   "id": "5d821ae8",
   "metadata": {},
   "outputs": [],
   "source": [
    "class Solution:\n",
    "    def climbStairs(self, n: int) -> int:\n",
    "        memo = {}\n",
    "        return self.helper(n, memo)\n",
    "    \n",
    "    def helper(self, n: int, memo: dict[int, int]) -> int:\n",
    "        if n == 0 or n == 1:\n",
    "            return 1\n",
    "        if n not in memo:\n",
    "            memo[n] = self.helper(n-1, memo) + self.helper(n-2, memo)\n",
    "        return memo[n]"
   ]
  },
  {
   "cell_type": "code",
   "execution_count": null,
   "id": "ded10c86",
   "metadata": {},
   "outputs": [],
   "source": [
    "class Solution {\n",
    "    unordered_map<int, int> mem = {1: 1, 2: 2};\n",
    "    \n",
    "    public:\n",
    "    int climbStairs(int n) {\n",
    "        unordered_map<int, int> mem;\n",
    "        mem[1] = 1;\n",
    "        mem[2] = 2;\n",
    "        return climbStairsUtil(n, mem);\n",
    "    }\n",
    "\n",
    "    int climbStairsUtil(int n, unordered_map<int, int> &mem) {\n",
    "        \n",
    "        if (mem.count(n) != 0) {\n",
    "            return mem[n];\n",
    "        }\n",
    "\n",
    "        int ans = climbStairsUtil(n-1, mem) + climbStairsUtil(n-2, mem); \n",
    "        mem[n] = ans;\n",
    "        return ans;\n",
    "    }\n",
    "};"
   ]
  },
  {
   "cell_type": "code",
   "execution_count": null,
   "id": "2031640b",
   "metadata": {},
   "outputs": [],
   "source": []
  },
  {
   "cell_type": "markdown",
   "id": "a52a3295",
   "metadata": {},
   "source": [
    "```Java\n",
    "class Solution {\n",
    "    public int climbStairs(int n) {\n",
    "        if (n <= 2) {\n",
    "            return n;\n",
    "        }\n",
    "        \n",
    "        int prev = 1; // Number of ways to climb 1 step\n",
    "        int next = 2; // Number of ways to climb 2 steps\n",
    "        \n",
    "        for (int i = 3; i <= n; i++) {\n",
    "            int current = prev + next; \n",
    "            prev = next;\n",
    "            next = current; \n",
    "        }\n",
    "        \n",
    "        return next; \n",
    "    }\n",
    "}\n",
    "```"
   ]
  },
  {
   "cell_type": "code",
   "execution_count": null,
   "id": "2506914c",
   "metadata": {},
   "outputs": [],
   "source": [
    "class Solution {\n",
    "\n",
    "    public int climbStairs(int n) {\n",
    "\n",
    "        if(n <= 0) return 0;\n",
    "        if(n <= 2) return n;\n",
    "\n",
    "        int first = 2;\n",
    "        int second = 1;\n",
    "        int ans = 0;\n",
    "\n",
    "        for(int i=2; i<n; i++){\n",
    "\n",
    "            ans = first + second;\n",
    "            second = first;\n",
    "            first = ans;\n",
    "        }\n",
    "\n",
    "        return ans;\n",
    "    }\n",
    "}"
   ]
  }
 ],
 "metadata": {
  "kernelspec": {
   "display_name": "Python 3 (ipykernel)",
   "language": "python",
   "name": "python3"
  },
  "language_info": {
   "codemirror_mode": {
    "name": "ipython",
    "version": 3
   },
   "file_extension": ".py",
   "mimetype": "text/x-python",
   "name": "python",
   "nbconvert_exporter": "python",
   "pygments_lexer": "ipython3",
   "version": "3.10.9"
  }
 },
 "nbformat": 4,
 "nbformat_minor": 5
}
