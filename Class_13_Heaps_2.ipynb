{
 "cells": [
  {
   "cell_type": "markdown",
   "id": "4fd18b46",
   "metadata": {},
   "source": [
    "# Priority Queue\n",
    "- ADT: Abstract data type\n",
    "- A queue where each object has an associated priority attached\n",
    "- Operation\n",
    "  - Insert: with a priority value\n",
    "  - Remove: max/min\n",
    "  - Get/Peek: max/min value\n",
    "\n",
    "Can be implemented using simple sorted  array, heap or using balanced BSTs\n",
    "\n",
    "\n",
    "**simple sorted  array**   \n",
    "- Insert O(N)\n",
    "- Remove O(1)\n",
    "- Peek O(1)\n",
    "\n",
    "**HEAP**\n",
    "- Insert O(log N)\n",
    "- Remove O(log N)\n",
    "- Peek O(1)\n",
    "\n",
    "**Balanced BSTs**\n",
    "- Insert O(log N)\n",
    "- Remove O(log N)\n",
    "- Peek O(log N)\n",
    "\n",
    "\n",
    "Practically Heap is the prefered implementation over BST as Heap uses an array which gives better locality of reference (caching)\n",
    "Hence better practical performance even though complexity is same."
   ]
  },
  {
   "cell_type": "code",
   "execution_count": null,
   "id": "cd6753c7",
   "metadata": {},
   "outputs": [],
   "source": []
  },
  {
   "cell_type": "code",
   "execution_count": null,
   "id": "d48d315d",
   "metadata": {},
   "outputs": [],
   "source": []
  },
  {
   "cell_type": "markdown",
   "id": "6a6816a8",
   "metadata": {},
   "source": [
    "## Priority Queue in different languages"
   ]
  },
  {
   "cell_type": "code",
   "execution_count": null,
   "id": "82f9f6b0",
   "metadata": {},
   "outputs": [],
   "source": []
  },
  {
   "cell_type": "markdown",
   "id": "127ab6ee",
   "metadata": {},
   "source": [
    "### Python"
   ]
  },
  {
   "cell_type": "code",
   "execution_count": 1,
   "id": "29ed0092",
   "metadata": {},
   "outputs": [
    {
     "name": "stdout",
     "output_type": "stream",
     "text": [
      "[1, 2, 3, 4]\n",
      "\n",
      "[1, 3, 2, 4]\n",
      "\n",
      "pop 1 [2, 3, 4]\n",
      "pop 2 [3, 4]\n",
      "pop 3 [4]\n",
      "pop 4 []\n"
     ]
    }
   ],
   "source": [
    "import heapq\n",
    "\n",
    "data = [1,2,3,4] # list/array\n",
    "heapq.heapify(data)\n",
    "print(data)\n",
    "\n",
    "# min heap max heap? min heap\n",
    "print()\n",
    "data = [4,3,2,1]\n",
    "heapq.heapify(data)\n",
    "print(data)\n",
    "\n",
    "\n",
    "print()\n",
    "for _ in range(4): # i = 0, 1, 2 3\n",
    "    r = heapq.heappop(data)\n",
    "    print(\"pop\", r, data)"
   ]
  },
  {
   "cell_type": "code",
   "execution_count": null,
   "id": "caa119c0",
   "metadata": {},
   "outputs": [],
   "source": []
  },
  {
   "cell_type": "code",
   "execution_count": 2,
   "id": "bedfac94",
   "metadata": {},
   "outputs": [
    {
     "name": "stdout",
     "output_type": "stream",
     "text": [
      "[1, 3, 2, 4]\n",
      "\n",
      "pop 1 [2, 3, 4]\n",
      "pop 2 [3, 4]\n",
      "pop 3 [4]\n",
      "pop 4 []\n"
     ]
    }
   ],
   "source": [
    "data = [4,3,2,1]\n",
    "heapq.heapify(data)\n",
    "print(data)\n",
    "\n",
    "\n",
    "\n",
    "print()\n",
    "for _ in range(4): # i = 0, 1, 2 3\n",
    "    r = heapq.heappop(data)\n",
    "    print(\"pop\", r, data)\n"
   ]
  },
  {
   "cell_type": "code",
   "execution_count": null,
   "id": "dc9fdf24",
   "metadata": {},
   "outputs": [],
   "source": []
  },
  {
   "cell_type": "code",
   "execution_count": 3,
   "id": "09a03a7d",
   "metadata": {},
   "outputs": [
    {
     "name": "stdout",
     "output_type": "stream",
     "text": [
      "[10]\n",
      "[1, 10]\n",
      "1\n"
     ]
    }
   ],
   "source": [
    "h = []\n",
    "heapq.heappush(h, 10)\n",
    "print(h)\n",
    "heapq.heappush(h, 1)\n",
    "print(h)\n",
    "print(h[0])"
   ]
  },
  {
   "cell_type": "code",
   "execution_count": null,
   "id": "e5656790",
   "metadata": {},
   "outputs": [],
   "source": []
  },
  {
   "cell_type": "code",
   "execution_count": 5,
   "id": "5e7755bd",
   "metadata": {},
   "outputs": [
    {
     "name": "stdout",
     "output_type": "stream",
     "text": [
      "pop 5 [1, 3, 4]\n",
      "pop 1 [3, 4]\n",
      "pop 3 [4]\n",
      "pop 4 []\n",
      "\n",
      "[1, 3, 4, 5]\n",
      "pop 1 [3, 5, 4]\n",
      "pop 3 [4, 5]\n",
      "pop 4 [5]\n",
      "pop 5 []\n"
     ]
    }
   ],
   "source": [
    "# Heapify before doing heappop\n",
    "data = [5,3,4,1]\n",
    "for _ in range(4): # i = 0, 1, 2 3\n",
    "    r = heapq.heappop(data)\n",
    "    print(\"pop\", r, data)\n",
    "    \n",
    "    \n",
    "print()\n",
    "data = [5,3,4,1]\n",
    "heapq.heapify(data)\n",
    "print(data)\n",
    "for _ in range(4): # i = 0, 1, 2 3\n",
    "    r = heapq.heappop(data)\n",
    "    print(\"pop\", r, data)"
   ]
  },
  {
   "cell_type": "code",
   "execution_count": null,
   "id": "e153cfd2",
   "metadata": {},
   "outputs": [],
   "source": []
  },
  {
   "cell_type": "markdown",
   "id": "1ef61157",
   "metadata": {},
   "source": [
    "**Strings and heap**  "
   ]
  },
  {
   "cell_type": "code",
   "execution_count": null,
   "id": "2ca9eed7",
   "metadata": {},
   "outputs": [],
   "source": [
    "# min heap\n",
    "# data  1 4 3 6 5 8 7\n",
    "# idx   0 1 2 3 4 5 6\n",
    "# p-idx   0 0 1 1 2 2\n",
    "\n",
    "\n",
    "      1\n",
    "    4   3\n",
    "   6 5  8 7"
   ]
  },
  {
   "cell_type": "code",
   "execution_count": null,
   "id": "8b455714",
   "metadata": {},
   "outputs": [],
   "source": []
  },
  {
   "cell_type": "code",
   "execution_count": 6,
   "id": "5208c89a",
   "metadata": {},
   "outputs": [
    {
     "name": "stdout",
     "output_type": "stream",
     "text": [
      "['a', 'b', 'd', 'c', 'e']\n",
      "pop a ['b', 'c', 'd', 'e']\n",
      "pop b ['c', 'e', 'd']\n",
      "pop c ['d', 'e']\n",
      "pop d ['e']\n"
     ]
    }
   ],
   "source": [
    "data = [\"a\", \"c\", \"d\", \"b\",  \"e\"]\n",
    "heapq.heapify(data)\n",
    "print(data)\n",
    "for _ in range(4): # i = 0, 1, 2 3\n",
    "    r = heapq.heappop(data)\n",
    "    print(\"pop\", r, data)\n",
    "# a b d c e\n",
    "# 0 1 2 3 4\n",
    "#   0 0 1 1\n",
    "\n",
    "#         a\n",
    "#       b    d\n",
    "#     c   e"
   ]
  },
  {
   "cell_type": "code",
   "execution_count": 2,
   "id": "ca677059",
   "metadata": {},
   "outputs": [
    {
     "data": {
      "text/plain": [
       "True"
      ]
     },
     "execution_count": 2,
     "metadata": {},
     "output_type": "execute_result"
    }
   ],
   "source": [
    "\"a\" < \"b\""
   ]
  },
  {
   "cell_type": "code",
   "execution_count": null,
   "id": "d716045b",
   "metadata": {},
   "outputs": [],
   "source": []
  },
  {
   "cell_type": "code",
   "execution_count": null,
   "id": "a825d046",
   "metadata": {},
   "outputs": [],
   "source": [
    "data = [\"a\", \"c\", \"d\", \"b\",  \"e\"]\n",
    "heapq.heapify(data)\n",
    "print(data)\n",
    "\n",
    "for _ in range(4): # i = 0, 1, 2 3\n",
    "    r = heapq.heappop(data)\n",
    "    print(\"pop\", r, data)\n",
    "    "
   ]
  },
  {
   "cell_type": "code",
   "execution_count": null,
   "id": "d9d5cd02",
   "metadata": {},
   "outputs": [],
   "source": []
  },
  {
   "cell_type": "markdown",
   "id": "13c734bf",
   "metadata": {},
   "source": [
    "**Custom Objects and Heap**  "
   ]
  },
  {
   "cell_type": "code",
   "execution_count": 7,
   "id": "fe1d49d8",
   "metadata": {},
   "outputs": [
    {
     "name": "stdout",
     "output_type": "stream",
     "text": [
      "[(gaurav, 1), (Niraj, 4), (manu, 2), (abhishek, 7)]\n",
      "pop (gaurav, 1) [(manu, 2), (Niraj, 4), (abhishek, 7)]\n",
      "pop (manu, 2) [(Niraj, 4), (abhishek, 7)]\n",
      "pop (Niraj, 4) [(abhishek, 7)]\n",
      "pop (abhishek, 7) []\n"
     ]
    }
   ],
   "source": [
    "# min heap example using age for priority\n",
    "class Person:\n",
    "    def __init__(self, name, age):\n",
    "        self.name = name\n",
    "        self.age =  age\n",
    "        \n",
    "    def __lt__(self, other): # less than\n",
    "        return self.age < other.age\n",
    "    \n",
    "    def __str__(self):\n",
    "        return f\"({self.name}, {self.age})\"\n",
    "    \n",
    "    def __repr__(self):\n",
    "        return self.__str__()\n",
    "\n",
    "\n",
    "data = [Person(\"gaurav\",1), Person(\"abhishek\",7), Person(\"manu\",2), Person(\"Niraj\",4)]\n",
    "\n",
    "heapq.heapify(data)\n",
    "print(data)\n",
    "for _ in range(4): # i = 0, 1, 2 3\n",
    "    r = heapq.heappop(data)\n",
    "    print(\"pop\", r, data)\n",
    "    \n"
   ]
  },
  {
   "cell_type": "code",
   "execution_count": null,
   "id": "c7a7155e",
   "metadata": {},
   "outputs": [],
   "source": []
  },
  {
   "cell_type": "markdown",
   "id": "7a54025a",
   "metadata": {},
   "source": [
    "**Python heap as max heap**   "
   ]
  },
  {
   "cell_type": "code",
   "execution_count": 8,
   "id": "9b4321c5",
   "metadata": {},
   "outputs": [
    {
     "name": "stdout",
     "output_type": "stream",
     "text": [
      "[(abhishek, 7), (Niraj, 4), (manu, 2), (gaurav, 1)]\n",
      "pop (abhishek, 7) [(Niraj, 4), (gaurav, 1), (manu, 2)]\n",
      "pop (Niraj, 4) [(manu, 2), (gaurav, 1)]\n",
      "pop (manu, 2) [(gaurav, 1)]\n",
      "pop (gaurav, 1) []\n"
     ]
    }
   ],
   "source": [
    "# max heap example using age for priority\n",
    "class Person:\n",
    "    def __init__(self, name, age):\n",
    "        self.name = name\n",
    "        self.age =  age\n",
    "        \n",
    "    def __lt__(self, other): # less than\n",
    "        return self.age > other.age\n",
    "    \n",
    "    def __str__(self):\n",
    "        return f\"({self.name}, {self.age})\"\n",
    "    \n",
    "    def __repr__(self):\n",
    "        return self.__str__()\n",
    "\n",
    "# use age for priority\n",
    "data = [Person(\"gaurav\",1), Person(\"abhishek\",7), Person(\"manu\",2), Person(\"Niraj\",4)]\n",
    "\n",
    "heapq.heapify(data)\n",
    "print(data)\n",
    "for _ in range(4): # i = 0, 1, 2 3\n",
    "    r = heapq.heappop(data)\n",
    "    print(\"pop\", r, data)"
   ]
  },
  {
   "cell_type": "code",
   "execution_count": 31,
   "id": "5878d487",
   "metadata": {},
   "outputs": [
    {
     "name": "stdout",
     "output_type": "stream",
     "text": [
      "[(abhishek, 7), (gaurav, 1), (manu, 2), (niraj, 4)]\n",
      "pop (abhishek, 7) [(gaurav, 1), (niraj, 4), (manu, 2)]\n",
      "pop (gaurav, 1) [(manu, 2), (niraj, 4)]\n",
      "pop (manu, 2) [(niraj, 4)]\n",
      "pop (niraj, 4) []\n"
     ]
    }
   ],
   "source": [
    "# min heap example using name for priority\n",
    "class Person:\n",
    "    def __init__(self, name, age):\n",
    "        self.name = name\n",
    "        self.age =  age\n",
    "        \n",
    "    def __lt__(self, other): # less than\n",
    "        return self.name < other.name\n",
    "    \n",
    "    def __str__(self):\n",
    "        return f\"({self.name}, {self.age})\"\n",
    "    \n",
    "    def __repr__(self):\n",
    "        return self.__str__()\n",
    "\n",
    "# use age for priority\n",
    "data = [Person(\"gaurav\",1), Person(\"abhishek\",7), Person(\"manu\",2), Person(\"niraj\",4)]\n",
    "\n",
    "heapq.heapify(data)\n",
    "print(data)\n",
    "for _ in range(4): # i = 0, 1, 2 3\n",
    "    r = heapq.heappop(data)\n",
    "    print(\"pop\", r, data)"
   ]
  },
  {
   "cell_type": "code",
   "execution_count": 32,
   "id": "b478a0df",
   "metadata": {},
   "outputs": [
    {
     "name": "stdout",
     "output_type": "stream",
     "text": [
      "[12, 11, 2, 6]\n"
     ]
    }
   ],
   "source": [
    "import heapq\n",
    "heap=[]\n",
    "heapq.heappush(heap,11)\n",
    "heapq.heappush(heap,2)\n",
    "heapq.heappush(heap,12)\n",
    "heapq.heappush(heap,6)\n",
    "heapq._heapify_max(heap)\n",
    "print(heap)\n"
   ]
  },
  {
   "cell_type": "code",
   "execution_count": null,
   "id": "b62cf944",
   "metadata": {},
   "outputs": [],
   "source": []
  },
  {
   "cell_type": "markdown",
   "id": "5625cbbf",
   "metadata": {},
   "source": [
    "# JAVA\n",
    "\n",
    "**default min heap**\n",
    "\n",
    "```Java\n",
    "    PriorityQueue<Integer> pq=new PriorityQueue<>();\n",
    "\n",
    "    for(int i=5; i>= 1;i--)\n",
    "    {\n",
    "      pq.add(i);\n",
    "    }\n",
    "\n",
    "    while(!pq.isEmpty())\n",
    "    {\n",
    "      System.out.println(pq.poll());\n",
    "    }\n",
    "``` \n",
    "\n",
    "\n",
    "**default min heap**\n",
    "```Java\n",
    "    int data[]={1,2,3,5,4};\n",
    "\n",
    "    PriorityQueue<Integer> pq=new PriorityQueue<>();\n",
    "\n",
    "    // copy data\n",
    "    for(int i=0;i< data.length;i++)\n",
    "    {\n",
    "      pq.add(data[i]);\n",
    "    }\n",
    "\n",
    "    while(!pq.isEmpty())\n",
    "    {\n",
    "      System.out.println(pq.poll());\n",
    "    }\n",
    "```    \n",
    "    \n",
    "**max heap using comparator**\n",
    " ```Java\n",
    "    int data[]={1,2,3,5,4};\n",
    "\n",
    "    PriorityQueue<Integer> pq=new PriorityQueue<Integer>((o1,o2)->  o2-o1);\n",
    "    for(int i=0;i< data.length;i++)\n",
    "    {\n",
    "      pq.add(data[i]);\n",
    "    }\n",
    "\n",
    "    while(!pq.isEmpty())\n",
    "    {\n",
    "      System.out.println(pq.poll());\n",
    "    }\n",
    "\n",
    "```\n"
   ]
  },
  {
   "cell_type": "code",
   "execution_count": 10,
   "id": "d57059d3",
   "metadata": {},
   "outputs": [
    {
     "name": "stdout",
     "output_type": "stream",
     "text": [
      "1\n",
      "4\n",
      "9\n",
      "\n",
      "-1\n",
      "2\n",
      "-3\n",
      "\n"
     ]
    },
    {
     "ename": "TypeError",
     "evalue": "mul() missing 1 required positional argument: 'y'",
     "output_type": "error",
     "traceback": [
      "\u001b[1;31m---------------------------------------------------------------------------\u001b[0m",
      "\u001b[1;31mTypeError\u001b[0m                                 Traceback (most recent call last)",
      "Cell \u001b[1;32mIn[10], line 12\u001b[0m\n\u001b[0;32m     10\u001b[0m do([\u001b[38;5;241m1\u001b[39m,\u001b[38;5;241m-\u001b[39m\u001b[38;5;241m2\u001b[39m,\u001b[38;5;241m3\u001b[39m], \u001b[38;5;28;01mlambda\u001b[39;00m x: \u001b[38;5;241m-\u001b[39mx)\n\u001b[0;32m     11\u001b[0m \u001b[38;5;28mprint\u001b[39m()\n\u001b[1;32m---> 12\u001b[0m \u001b[43mdo\u001b[49m\u001b[43m(\u001b[49m\u001b[43m[\u001b[49m\u001b[38;5;241;43m1\u001b[39;49m\u001b[43m,\u001b[49m\u001b[38;5;241;43m-\u001b[39;49m\u001b[38;5;241;43m2\u001b[39;49m\u001b[43m,\u001b[49m\u001b[38;5;241;43m3\u001b[39;49m\u001b[43m]\u001b[49m\u001b[43m,\u001b[49m\u001b[43m \u001b[49m\u001b[43mmul\u001b[49m\u001b[43m)\u001b[49m\n",
      "Cell \u001b[1;32mIn[10], line 3\u001b[0m, in \u001b[0;36mdo\u001b[1;34m(data, f)\u001b[0m\n\u001b[0;32m      1\u001b[0m \u001b[38;5;28;01mdef\u001b[39;00m \u001b[38;5;21mdo\u001b[39m(data, f):\n\u001b[0;32m      2\u001b[0m     \u001b[38;5;28;01mfor\u001b[39;00m d \u001b[38;5;129;01min\u001b[39;00m data:\n\u001b[1;32m----> 3\u001b[0m         \u001b[38;5;28mprint\u001b[39m(\u001b[43mf\u001b[49m\u001b[43m(\u001b[49m\u001b[43md\u001b[49m\u001b[43m)\u001b[49m)\n",
      "\u001b[1;31mTypeError\u001b[0m: mul() missing 1 required positional argument: 'y'"
     ]
    }
   ],
   "source": [
    "\n",
    "def do(data, f):\n",
    "    for d in data:\n",
    "        print(f(d))\n",
    "        \n",
    "def mul(x,y):\n",
    "    return x*y\n",
    "\n",
    "do([1,-2,3], lambda x: x*x)\n",
    "print()\n",
    "do([1,-2,3], lambda x: -x)\n",
    "print()\n",
    "do([1,-2,3], mul)"
   ]
  },
  {
   "cell_type": "code",
   "execution_count": null,
   "id": "078895ef",
   "metadata": {},
   "outputs": [],
   "source": []
  },
  {
   "cell_type": "markdown",
   "id": "5571bf4d",
   "metadata": {},
   "source": [
    "### C++"
   ]
  },
  {
   "cell_type": "markdown",
   "id": "c7cddf0f",
   "metadata": {},
   "source": [
    "```C++\n",
    "#include <iostream>\n",
    "#include <queue>\n",
    "using namespace std;\n",
    "  \n",
    "int main()\n",
    "{\n",
    "      int arr[]={1,2,3,4,5};\n",
    "    \n",
    "    priority_queue<int> pq(arr, arr+5);     \n",
    "    cout<<\"Max priority queue: \";\n",
    "      while(!pq.empty()){\n",
    "      cout<<pq.top()<<endl;\n",
    "      pq.pop();\n",
    "    }\n",
    "      \n",
    "    \n",
    "    priority_queue <int, vector<int>, greater<int> > pq1(arr,arr+5);\n",
    "    cout<<\"Min priority queue: \";\n",
    "    while(!pq1.empty()){\n",
    "    cout<<pq1.top()<<endl;\n",
    "    pq1.pop();\n",
    "    }\n",
    "      \n",
    "}\n",
    "```"
   ]
  },
  {
   "cell_type": "markdown",
   "id": "66b7bccb",
   "metadata": {},
   "source": [
    "# C#\n",
    "\n",
    "**min heap**\n",
    "```\n",
    "PriorityQueue<string, int> queue = new PriorityQueue<string, int>();\n",
    "queue.Enqueue(\"Item A\", 1);\n",
    "queue.Enqueue(\"Item B\", 2);\n",
    "queue.Enqueue(\"Item C\", 3);\n",
    "queue.Enqueue(\"Item D\", 5);\n",
    "queue.Enqueue(\"Item E\", 4);\n",
    "\n",
    "while (queue.TryDequeue(out string item, out int priority))\n",
    "{\n",
    "    Console.WriteLine($\"Popped Item : {item}. Priority Was : {priority}\");\n",
    "}\n",
    "\n",
    "```"
   ]
  },
  {
   "cell_type": "markdown",
   "id": "4cee41bb",
   "metadata": {},
   "source": [
    "# Javascript\n",
    "\n"
   ]
  },
  {
   "cell_type": "code",
   "execution_count": null,
   "id": "4385b7e1",
   "metadata": {},
   "outputs": [],
   "source": []
  },
  {
   "cell_type": "markdown",
   "id": "c3868363",
   "metadata": {},
   "source": [
    "- heapify -> convert a sequence/array to satisfy heap property: O(N)\n",
    "- heappop: assumes data is in heap format/heapified: O(log N)\n",
    "- heappush: assumes data is in heap format/heapified: O(log N)\n",
    "- peek: O(1)"
   ]
  },
  {
   "cell_type": "code",
   "execution_count": null,
   "id": "d765880a",
   "metadata": {},
   "outputs": [],
   "source": []
  },
  {
   "cell_type": "markdown",
   "id": "b6a7f132",
   "metadata": {},
   "source": [
    "https://leetcode.com/problems/kth-largest-element-in-an-array/\n",
    "    \n",
    "    \n",
    "**Solution-1:**\n",
    "- sort data : O( n log n )\n",
    "- get kth element from end: O(1)\n",
    "    \n",
    "TC:O( n log n)  \n",
    "SC: O(1)  \n",
    "    \n",
    "**Solution-2:**\n",
    "- Max heap of entire data: O(N)\n",
    "- Heappop(k-1 times) : O(k log n)\n",
    "- Top: O(1)\n",
    "\n",
    "TC: O(N) + O(k log n)   \n",
    "    if n >> k  O(N)  \n",
    "    if k ~ n   O(N log N)  \n",
    "SC: O(N)  \n",
    "\n",
    "**Solution-3:**\n",
    "- Make a min heap of first k elements: O(k)\n",
    "- For each remaining element pop if current current element > heap.top() and push(current element): (N-k) log k\n",
    "- get top of heap O(1)\n",
    "\n",
    "TC: O(n log k): \n",
    "    O(n log n) if k ~n \n",
    "SC: O(k)  "
   ]
  },
  {
   "cell_type": "code",
   "execution_count": null,
   "id": "f575cee8",
   "metadata": {},
   "outputs": [],
   "source": []
  },
  {
   "cell_type": "code",
   "execution_count": null,
   "id": "903658ff",
   "metadata": {},
   "outputs": [],
   "source": []
  },
  {
   "cell_type": "markdown",
   "id": "ccb82a9f",
   "metadata": {},
   "source": [
    "https://leetcode.com/problems/merge-k-sorted-lists/\n",
    "\n",
    "K lists.  \n",
    "Each of size N.  \n",
    "    \n",
    "**Solution-1**\n",
    "- Merge all lists pair wise till we have only one list left\n",
    "\n",
    "TC: O(nk log k)\n",
    "SC: O(k)\n",
    "\n",
    "**Solution-2**\n",
    "- Join all list: O(nk)\n",
    "- Sort all data(size is now nk): O(nk log nk)\n",
    "\n",
    "TC: (nk log nk)\n",
    "    \n",
    "**Solution-3**: based on merging 2 sorted arrays: pick the smallest element from k lists\n",
    "- Maintain a list of current index for all lists\n",
    "- Pick the smallest element  from all lists. Increment the pointer/index for the list where min element is picked O(k)\n",
    "- repeat above step for all data elements/ till all lists are exhausted.\n",
    "\n",
    "TC: O(n * k^2)\n",
    "\n",
    "**Solution-4**\n",
    "- use a heap to maintain the minimum of value from all the k lists.\n",
    "Similar to solution-3\n",
    "\n",
    "TC: O( nk log k)\n",
    "SC: O(k)"
   ]
  },
  {
   "cell_type": "code",
   "execution_count": null,
   "id": "20804d28",
   "metadata": {},
   "outputs": [],
   "source": [
    "# Solution\n",
    "# Use the logic to merge 2 sorted lists pairwise\n",
    "\n",
    "# Definition for singly-linked list.\n",
    "# class ListNode:\n",
    "#     def __init__(self, val=0, next=None):\n",
    "#         self.val = val\n",
    "#         self.next = next\n",
    "\n",
    "# n\n",
    "# n O(n) + O(2N) + O(3n) + ... O(kn) => n (O(1) + O(2) + ... O(k)) => O(n*k(k+1)/2) => O(n*k^2 + n*k)\n",
    "# n O(3n)\n",
    "# n O(4n)\n",
    "# n..\n",
    "# ..\n",
    "# n O(kn)\n",
    "\n",
    "class Solution:\n",
    "    def mergeKLists(self, lists: List[Optional[ListNode]]) -> Optional[ListNode]:\n",
    "        if len(lists) == 0:\n",
    "            return None\n",
    "\n",
    "        while len(lists) > 1:\n",
    "            l1 = lists.pop()\n",
    "            l2 = lists.pop()\n",
    "            lists.append(self.merge2List(l1, l2))\n",
    "\n",
    "        return lists[0]\n",
    "\n",
    "    def merge2List(self, l1, l2):\n",
    "        head = None\n",
    "        curr = None\n",
    "\n",
    "        if l1 is None:\n",
    "            return l2\n",
    "        if l2 is None:\n",
    "            return l1\n",
    "\n",
    "        while l1 is not None and l2 is not None:\n",
    "            temp = None\n",
    "            if l1.val < l2.val:\n",
    "                temp = l1\n",
    "                l1  = l1.next\n",
    "            else:\n",
    "                temp = l2\n",
    "                l2= l2.next\n",
    "            \n",
    "            if head is not None:\n",
    "                curr.next = temp\n",
    "                curr  = temp\n",
    "            else:\n",
    "                curr = temp\n",
    "                head = temp\n",
    "        \n",
    "        if l1 is not None:\n",
    "            curr.next = l1\n",
    "        \n",
    "        if l2 is not None:\n",
    "            curr.next = l2\n",
    "\n",
    "        return head"
   ]
  },
  {
   "cell_type": "code",
   "execution_count": null,
   "id": "b8812a65",
   "metadata": {},
   "outputs": [],
   "source": [
    "// Solution-3\n",
    "/**\n",
    " * Definition for singly-linked list.\n",
    " * struct ListNode {\n",
    " *     int val;\n",
    " *     ListNode *next;\n",
    " *     ListNode() : val(0), next(nullptr) {}\n",
    " *     ListNode(int x) : val(x), next(nullptr) {}\n",
    " *     ListNode(int x, ListNode *next) : val(x), next(next) {}\n",
    " * };\n",
    " */\n",
    "class Solution {\n",
    "public:\n",
    "    ListNode* mergeKLists(vector<ListNode*>& lists) {\n",
    "        \n",
    "        if (lists.size() == 0) {\n",
    "            return NULL;\n",
    "        }\n",
    "\n",
    "        ListNode *head  = NULL;\n",
    "        ListNode *curr  = NULL;\n",
    "\n",
    "        while (true) {\n",
    "\n",
    "            // Find the list which has minimum first element\n",
    "            int minIdx = -1;\n",
    "            for (int i = 0; i < lists.size(); i++) {\n",
    "                if (lists[i] == NULL) {\n",
    "                    continue;\n",
    "                }\n",
    "\n",
    "                if (minIdx == -1) {\n",
    "                    minIdx = i;\n",
    "                } else if (lists[minIdx]->val > lists[i]->val) {\n",
    "                    minIdx = i;\n",
    "                }\n",
    "            }\n",
    "\n",
    "            // No list with min found => all lists are exhausted\n",
    "            if (minIdx == -1) {\n",
    "                break;\n",
    "            }\n",
    "\n",
    "            if (head == NULL) {\n",
    "                head = lists[minIdx];\n",
    "                curr = lists[minIdx];\n",
    "            } else {\n",
    "                curr->next = lists[minIdx];\n",
    "                curr = lists[minIdx];\n",
    "            }\n",
    "            // advance the ponter for the list which contains min element\n",
    "            lists[minIdx] = lists[minIdx]->next;\n",
    "\n",
    "        }\n",
    "\n",
    "        return head;\n",
    "\n",
    "    }\n",
    "};"
   ]
  },
  {
   "cell_type": "code",
   "execution_count": null,
   "id": "0ec62ce9",
   "metadata": {},
   "outputs": [],
   "source": [
    "NULL\n",
    "NULL\n",
    "7->9\n",
    "\n",
    "[NULL,NULL,NULL]\n",
    " 0 1 2\n",
    "    \n",
    "2\n",
    "\n",
    "\n",
    "head -> 1\n",
    "curr -> 1->2->2->3->4->5->5->7->9"
   ]
  },
  {
   "cell_type": "code",
   "execution_count": null,
   "id": "4402f9b7",
   "metadata": {},
   "outputs": [],
   "source": []
  },
  {
   "cell_type": "markdown",
   "id": "90f4d17d",
   "metadata": {},
   "source": [
    "**Sort nearly k sorted array**\n",
    "\n",
    "Given a k–sorted array that is almost sorted such that each of the n elements may be misplaced by no more than k positions from the correct sorted order. Find a space-and-time efficient algorithm to sort the array.\n",
    "\n",
    "For example,\n",
    "\n",
    "Input:\n",
    " \n",
    "arr = [1, 4, 5, 2, 3, 7, 8, 6, 10, 9]\n",
    "k = 2\n",
    " \n",
    "Output:[1, 2, 3, 4, 5, 6, 7, 8, 9, 10]\n",
    "    \n",
    "Solution-1: using O(n log n) sorting algorithm\n",
    "\n",
    "Solution-2: use the common n^2 sorting algorithms\n",
    "- Bubble: O(n^2) X\n",
    "- Insertion: O(n*k) \n",
    "- Selection: O(n^2) X\n",
    "    \n",
    "Solution-3: Use a min heap\n",
    "- put first k+1 elements in the heap\n",
    "- pop the min element O(log k)\n",
    "- add the next element into the heap O(log k)  \n",
    "TC: O(n log k)  \n",
    "SC: O(k) \n"
   ]
  },
  {
   "cell_type": "code",
   "execution_count": null,
   "id": "ea7ca7ea",
   "metadata": {},
   "outputs": [],
   "source": []
  },
  {
   "cell_type": "code",
   "execution_count": null,
   "id": "fbed32f3",
   "metadata": {},
   "outputs": [],
   "source": []
  },
  {
   "cell_type": "markdown",
   "id": "46ea6736",
   "metadata": {},
   "source": [
    "Skyline: \n",
    "https://leetcode.com/problems/the-skyline-problem/\n"
   ]
  },
  {
   "cell_type": "markdown",
   "id": "f7c5920b",
   "metadata": {},
   "source": [
    "https://leetcode.com/problems/sliding-window-maximum/description/"
   ]
  }
 ],
 "metadata": {
  "kernelspec": {
   "display_name": "Python 3 (ipykernel)",
   "language": "python",
   "name": "python3"
  },
  "language_info": {
   "codemirror_mode": {
    "name": "ipython",
    "version": 3
   },
   "file_extension": ".py",
   "mimetype": "text/x-python",
   "name": "python",
   "nbconvert_exporter": "python",
   "pygments_lexer": "ipython3",
   "version": "3.10.9"
  }
 },
 "nbformat": 4,
 "nbformat_minor": 5
}
