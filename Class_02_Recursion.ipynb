{
 "cells": [
  {
   "cell_type": "markdown",
   "id": "46c349d5",
   "metadata": {},
   "source": [
    "# Thinking in Recursion"
   ]
  },
  {
   "cell_type": "markdown",
   "id": "80618e8c",
   "metadata": {},
   "source": [
    "- a function that calls itself is a recusive function\n",
    "- recursion uses stack memory\n",
    "- recursive functions have notion of a `base` or `terminating` condition\n"
   ]
  },
  {
   "cell_type": "markdown",
   "id": "3a5c2aba",
   "metadata": {},
   "source": [
    "\n",
    "1. Factorial\n",
    "1. https://leetcode.com/problems/reverse-string/\n",
    "1. https://leetcode.com/problems/power-of-two/\n",
    "1. https://leetcode.com/problems/decode-string/\n",
    "1. https://leetcode.com/problems/count-good-numbers/"
   ]
  }
 ],
 "metadata": {
  "kernelspec": {
   "display_name": "Python 3 (ipykernel)",
   "language": "python",
   "name": "python3"
  },
  "language_info": {
   "codemirror_mode": {
    "name": "ipython",
    "version": 3
   },
   "file_extension": ".py",
   "mimetype": "text/x-python",
   "name": "python",
   "nbconvert_exporter": "python",
   "pygments_lexer": "ipython3",
   "version": "3.10.9"
  }
 },
 "nbformat": 4,
 "nbformat_minor": 5
}
